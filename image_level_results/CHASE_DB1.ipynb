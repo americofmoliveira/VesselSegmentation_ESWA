{
 "cells": [
  {
   "cell_type": "markdown",
   "metadata": {},
   "source": [
    "### **Imports**"
   ]
  },
  {
   "cell_type": "code",
   "execution_count": 1,
   "metadata": {
    "collapsed": false,
    "jupyter": {
     "outputs_hidden": false
    }
   },
   "outputs": [],
   "source": [
    "from file_io import load_image\n",
    "from joblib import load\n",
    "import numpy as np\n",
    "import pandas as pd"
   ]
  },
  {
   "cell_type": "markdown",
   "metadata": {},
   "source": [
    "### **Auxiliary Function**\n",
    "\n",
    "_ Inputs_\n",
    "\n",
    "* __pred -__ the  binary segmentation;\n",
    "* __gt -__ the ground truth; \n",
    "* __mask -__ the binary mask; \n",
    "* __ prob -__ the probability map.\n",
    "\n",
    "_ Outputs _\n",
    "\n",
    "* __sen -__ Sensibility;\n",
    "* __spec -__ Specificity; \n",
    "* __acc -__ Accuracy; \n",
    "* __ auc -__ Area Under the ROC curve;\n",
    "* __ mcc -__ Matthews Correlation Coefficient."
   ]
  },
  {
   "cell_type": "code",
   "execution_count": 2,
   "metadata": {
    "collapsed": true,
    "jupyter": {
     "outputs_hidden": true
    }
   },
   "outputs": [],
   "source": [
    "from sklearn.metrics import confusion_matrix, roc_auc_score, matthews_corrcoef\n",
    "\n",
    "def perform_metrics (pred, gt, mask, prob):\n",
    "    \n",
    "    # Suppressing background regions.\n",
    "    pred = pred[mask>0]\n",
    "    gt = gt[mask>0]\n",
    "    prob = prob[mask>0]\n",
    "\n",
    "    # Building confusion matrix.\n",
    "    c_matrix = confusion_matrix(gt, pred)\n",
    "    \n",
    "    # Calculating ratios.\n",
    "    tn = c_matrix[0,0]\n",
    "    tp = c_matrix[1,1]\n",
    "    fn = c_matrix[1,0]\n",
    "    fp = c_matrix[0,1]\n",
    "    \n",
    "    # Finding the metrics.\n",
    "    sen  = tp/(tp + fn)\n",
    "    spec = tn/(tn + fp)\n",
    "    acc  = (tp + tn)/(tp + tn + fp + fn)\n",
    "    auc  = roc_auc_score (gt, prob)\n",
    "    mcc  = matthews_corrcoef (gt, pred)\n",
    "    \n",
    "    \n",
    "    return sen, spec, acc, auc, mcc"
   ]
  },
  {
   "cell_type": "markdown",
   "metadata": {},
   "source": [
    "### ** Loading **"
   ]
  },
  {
   "cell_type": "code",
   "execution_count": 3,
   "metadata": {
    "collapsed": true,
    "jupyter": {
     "outputs_hidden": true
    }
   },
   "outputs": [],
   "source": [
    "test_images = ['01R', '01L', '02R', '02L', '03R', '03L', '04R', '04L', '05R', '05L', '06R', '06L', '07R', '07L', '08R', '08L', '09R', '09L', '10R', '10L', '11R', '11L', '12R', '12L', '13R', '13L', '14R', '14L']\n",
    "r_width, r_height = 999, 960"
   ]
  },
  {
   "cell_type": "code",
   "execution_count": 4,
   "metadata": {
    "collapsed": false,
    "jupyter": {
     "outputs_hidden": false
    }
   },
   "outputs": [],
   "source": [
    "gts = np.zeros((len(test_images), r_height, r_width))\n",
    "masks = np.zeros ((len(test_images), r_height, r_width))\n",
    "segs = np.zeros((len(test_images), r_height, r_width))\n",
    "probs = np.zeros((len(test_images), r_height, r_width))"
   ]
  },
  {
   "cell_type": "markdown",
   "metadata": {},
   "source": [
    "In order for you to run the cell below, please download the annotations from [CHASE_DB1's website](https://blogs.kingston.ac.uk/retinal/chasedb1/) and change the paths accordingly."
   ]
  },
  {
   "cell_type": "code",
   "execution_count": 5,
   "metadata": {
    "collapsed": false,
    "jupyter": {
     "outputs_hidden": false
    }
   },
   "outputs": [],
   "source": [
    "#Change these paths\n",
    "gts_path = '../resources/gts/CHASE_DB1/'\n",
    "\n",
    "for i, image in enumerate(test_images):\n",
    "    gt = load_image(gts_path + 'Image_%s_1stHO.png' %image, normalize = True)\n",
    "    mask = load_image('../resources/masks/CHASE_DB1/mask_%s.png' %image)\n",
    "    seg = load_image('../resources/binary_segmentations/CHASE_DB1/seg_%s.png' %image, normalize = True)\n",
    "    prob = load('../resources/probability_maps/CHASE_DB1/prob_%s.npy' %image)[1]\n",
    "    \n",
    "    gts[i] = gt\n",
    "    masks [i] = mask\n",
    "    segs[i] = seg\n",
    "    probs[i] = prob"
   ]
  },
  {
   "cell_type": "markdown",
   "metadata": {},
   "source": [
    "### **Calculating**"
   ]
  },
  {
   "cell_type": "code",
   "execution_count": 6,
   "metadata": {
    "collapsed": false,
    "jupyter": {
     "outputs_hidden": false
    }
   },
   "outputs": [],
   "source": [
    "sen_list, spec_list, acc_list, auc_list, mcc_list = [], [], [], [], []\n",
    "\n",
    "for i in range (len(gts)):\n",
    "    sen, spec, acc, auc, mcc = perform_metrics (segs[i], gts[i], masks[i], probs[i])\n",
    "    sen_list.append(sen)\n",
    "    spec_list.append(spec)\n",
    "    acc_list.append(acc)\n",
    "    auc_list.append(auc)\n",
    "    mcc_list.append(mcc)"
   ]
  },
  {
   "cell_type": "markdown",
   "metadata": {},
   "source": [
    "### **Storing the Data**"
   ]
  },
  {
   "cell_type": "code",
   "execution_count": 7,
   "metadata": {
    "collapsed": true,
    "jupyter": {
     "outputs_hidden": true
    }
   },
   "outputs": [],
   "source": [
    "data = {'Image' : test_images, 'Sensitivity': sen_list, 'Specificity': spec_list, \n",
    "        'Accuracy': acc_list, 'AUC': auc_list, 'MCC': mcc_list}\n",
    "\n",
    "df = pd.DataFrame(data = data)\n",
    "df = df[['Image', 'Sensitivity','Specificity','Accuracy', 'AUC', 'MCC']]\n",
    "df.set_index('Image', inplace = True);"
   ]
  },
  {
   "cell_type": "markdown",
   "metadata": {},
   "source": [
    "### **Image-level results**"
   ]
  },
  {
   "cell_type": "code",
   "execution_count": 8,
   "metadata": {
    "collapsed": false,
    "jupyter": {
     "outputs_hidden": false
    }
   },
   "outputs": [
    {
     "data": {
      "text/html": [
       "<div>\n",
       "<table border=\"1\" class=\"dataframe\">\n",
       "  <thead>\n",
       "    <tr style=\"text-align: right;\">\n",
       "      <th></th>\n",
       "      <th>Sensitivity</th>\n",
       "      <th>Specificity</th>\n",
       "      <th>Accuracy</th>\n",
       "      <th>AUC</th>\n",
       "      <th>MCC</th>\n",
       "    </tr>\n",
       "    <tr>\n",
       "      <th>Image</th>\n",
       "      <th></th>\n",
       "      <th></th>\n",
       "      <th></th>\n",
       "      <th></th>\n",
       "      <th></th>\n",
       "    </tr>\n",
       "  </thead>\n",
       "  <tbody>\n",
       "    <tr>\n",
       "      <th>01R</th>\n",
       "      <td>0.750989</td>\n",
       "      <td>0.993156</td>\n",
       "      <td>0.966763</td>\n",
       "      <td>0.986760</td>\n",
       "      <td>0.818780</td>\n",
       "    </tr>\n",
       "    <tr>\n",
       "      <th>01L</th>\n",
       "      <td>0.828663</td>\n",
       "      <td>0.990718</td>\n",
       "      <td>0.974387</td>\n",
       "      <td>0.992642</td>\n",
       "      <td>0.854018</td>\n",
       "    </tr>\n",
       "    <tr>\n",
       "      <th>02R</th>\n",
       "      <td>0.764390</td>\n",
       "      <td>0.986515</td>\n",
       "      <td>0.961615</td>\n",
       "      <td>0.982528</td>\n",
       "      <td>0.798038</td>\n",
       "    </tr>\n",
       "    <tr>\n",
       "      <th>02L</th>\n",
       "      <td>0.745952</td>\n",
       "      <td>0.990786</td>\n",
       "      <td>0.962125</td>\n",
       "      <td>0.985061</td>\n",
       "      <td>0.806054</td>\n",
       "    </tr>\n",
       "    <tr>\n",
       "      <th>03R</th>\n",
       "      <td>0.786307</td>\n",
       "      <td>0.988889</td>\n",
       "      <td>0.966952</td>\n",
       "      <td>0.987492</td>\n",
       "      <td>0.821321</td>\n",
       "    </tr>\n",
       "    <tr>\n",
       "      <th>03L</th>\n",
       "      <td>0.801304</td>\n",
       "      <td>0.987156</td>\n",
       "      <td>0.966106</td>\n",
       "      <td>0.987092</td>\n",
       "      <td>0.825097</td>\n",
       "    </tr>\n",
       "    <tr>\n",
       "      <th>04R</th>\n",
       "      <td>0.733452</td>\n",
       "      <td>0.990193</td>\n",
       "      <td>0.961741</td>\n",
       "      <td>0.983259</td>\n",
       "      <td>0.793750</td>\n",
       "    </tr>\n",
       "    <tr>\n",
       "      <th>04L</th>\n",
       "      <td>0.760570</td>\n",
       "      <td>0.992236</td>\n",
       "      <td>0.965902</td>\n",
       "      <td>0.988831</td>\n",
       "      <td>0.821405</td>\n",
       "    </tr>\n",
       "    <tr>\n",
       "      <th>05R</th>\n",
       "      <td>0.777883</td>\n",
       "      <td>0.990670</td>\n",
       "      <td>0.964565</td>\n",
       "      <td>0.988474</td>\n",
       "      <td>0.827331</td>\n",
       "    </tr>\n",
       "    <tr>\n",
       "      <th>05L</th>\n",
       "      <td>0.757027</td>\n",
       "      <td>0.990995</td>\n",
       "      <td>0.964322</td>\n",
       "      <td>0.988701</td>\n",
       "      <td>0.813537</td>\n",
       "    </tr>\n",
       "    <tr>\n",
       "      <th>06R</th>\n",
       "      <td>0.782492</td>\n",
       "      <td>0.989236</td>\n",
       "      <td>0.966925</td>\n",
       "      <td>0.986779</td>\n",
       "      <td>0.820327</td>\n",
       "    </tr>\n",
       "    <tr>\n",
       "      <th>06L</th>\n",
       "      <td>0.720857</td>\n",
       "      <td>0.993570</td>\n",
       "      <td>0.963940</td>\n",
       "      <td>0.981330</td>\n",
       "      <td>0.801281</td>\n",
       "    </tr>\n",
       "    <tr>\n",
       "      <th>07R</th>\n",
       "      <td>0.759145</td>\n",
       "      <td>0.990463</td>\n",
       "      <td>0.965103</td>\n",
       "      <td>0.986293</td>\n",
       "      <td>0.811430</td>\n",
       "    </tr>\n",
       "    <tr>\n",
       "      <th>07L</th>\n",
       "      <td>0.759367</td>\n",
       "      <td>0.989853</td>\n",
       "      <td>0.963979</td>\n",
       "      <td>0.988262</td>\n",
       "      <td>0.809490</td>\n",
       "    </tr>\n",
       "    <tr>\n",
       "      <th>08R</th>\n",
       "      <td>0.808871</td>\n",
       "      <td>0.973761</td>\n",
       "      <td>0.957697</td>\n",
       "      <td>0.979866</td>\n",
       "      <td>0.765207</td>\n",
       "    </tr>\n",
       "    <tr>\n",
       "      <th>08L</th>\n",
       "      <td>0.801075</td>\n",
       "      <td>0.977711</td>\n",
       "      <td>0.960254</td>\n",
       "      <td>0.981609</td>\n",
       "      <td>0.777291</td>\n",
       "    </tr>\n",
       "    <tr>\n",
       "      <th>09R</th>\n",
       "      <td>0.700408</td>\n",
       "      <td>0.993133</td>\n",
       "      <td>0.971718</td>\n",
       "      <td>0.983405</td>\n",
       "      <td>0.775104</td>\n",
       "    </tr>\n",
       "    <tr>\n",
       "      <th>09L</th>\n",
       "      <td>0.751523</td>\n",
       "      <td>0.989995</td>\n",
       "      <td>0.972677</td>\n",
       "      <td>0.986503</td>\n",
       "      <td>0.787072</td>\n",
       "    </tr>\n",
       "    <tr>\n",
       "      <th>10R</th>\n",
       "      <td>0.818472</td>\n",
       "      <td>0.974006</td>\n",
       "      <td>0.960044</td>\n",
       "      <td>0.979189</td>\n",
       "      <td>0.764945</td>\n",
       "    </tr>\n",
       "    <tr>\n",
       "      <th>10L</th>\n",
       "      <td>0.810821</td>\n",
       "      <td>0.981297</td>\n",
       "      <td>0.965479</td>\n",
       "      <td>0.985191</td>\n",
       "      <td>0.794372</td>\n",
       "    </tr>\n",
       "    <tr>\n",
       "      <th>11R</th>\n",
       "      <td>0.830739</td>\n",
       "      <td>0.986142</td>\n",
       "      <td>0.974167</td>\n",
       "      <td>0.990064</td>\n",
       "      <td>0.818108</td>\n",
       "    </tr>\n",
       "    <tr>\n",
       "      <th>11L</th>\n",
       "      <td>0.854143</td>\n",
       "      <td>0.984426</td>\n",
       "      <td>0.974405</td>\n",
       "      <td>0.990909</td>\n",
       "      <td>0.823288</td>\n",
       "    </tr>\n",
       "    <tr>\n",
       "      <th>12R</th>\n",
       "      <td>0.826278</td>\n",
       "      <td>0.979168</td>\n",
       "      <td>0.962883</td>\n",
       "      <td>0.986705</td>\n",
       "      <td>0.805084</td>\n",
       "    </tr>\n",
       "    <tr>\n",
       "      <th>12L</th>\n",
       "      <td>0.806530</td>\n",
       "      <td>0.974887</td>\n",
       "      <td>0.957440</td>\n",
       "      <td>0.980788</td>\n",
       "      <td>0.773365</td>\n",
       "    </tr>\n",
       "    <tr>\n",
       "      <th>13R</th>\n",
       "      <td>0.710529</td>\n",
       "      <td>0.985488</td>\n",
       "      <td>0.959718</td>\n",
       "      <td>0.981577</td>\n",
       "      <td>0.748803</td>\n",
       "    </tr>\n",
       "    <tr>\n",
       "      <th>13L</th>\n",
       "      <td>0.771759</td>\n",
       "      <td>0.983360</td>\n",
       "      <td>0.963918</td>\n",
       "      <td>0.984341</td>\n",
       "      <td>0.777909</td>\n",
       "    </tr>\n",
       "    <tr>\n",
       "      <th>14R</th>\n",
       "      <td>0.778138</td>\n",
       "      <td>0.984928</td>\n",
       "      <td>0.967564</td>\n",
       "      <td>0.982883</td>\n",
       "      <td>0.783914</td>\n",
       "    </tr>\n",
       "    <tr>\n",
       "      <th>14L</th>\n",
       "      <td>0.784339</td>\n",
       "      <td>0.987131</td>\n",
       "      <td>0.966914</td>\n",
       "      <td>0.988687</td>\n",
       "      <td>0.808510</td>\n",
       "    </tr>\n",
       "  </tbody>\n",
       "</table>\n",
       "</div>"
      ],
      "text/plain": [
       "       Sensitivity  Specificity  Accuracy       AUC       MCC\n",
       "Image                                                        \n",
       "01R       0.750989     0.993156  0.966763  0.986760  0.818780\n",
       "01L       0.828663     0.990718  0.974387  0.992642  0.854018\n",
       "02R       0.764390     0.986515  0.961615  0.982528  0.798038\n",
       "02L       0.745952     0.990786  0.962125  0.985061  0.806054\n",
       "03R       0.786307     0.988889  0.966952  0.987492  0.821321\n",
       "03L       0.801304     0.987156  0.966106  0.987092  0.825097\n",
       "04R       0.733452     0.990193  0.961741  0.983259  0.793750\n",
       "04L       0.760570     0.992236  0.965902  0.988831  0.821405\n",
       "05R       0.777883     0.990670  0.964565  0.988474  0.827331\n",
       "05L       0.757027     0.990995  0.964322  0.988701  0.813537\n",
       "06R       0.782492     0.989236  0.966925  0.986779  0.820327\n",
       "06L       0.720857     0.993570  0.963940  0.981330  0.801281\n",
       "07R       0.759145     0.990463  0.965103  0.986293  0.811430\n",
       "07L       0.759367     0.989853  0.963979  0.988262  0.809490\n",
       "08R       0.808871     0.973761  0.957697  0.979866  0.765207\n",
       "08L       0.801075     0.977711  0.960254  0.981609  0.777291\n",
       "09R       0.700408     0.993133  0.971718  0.983405  0.775104\n",
       "09L       0.751523     0.989995  0.972677  0.986503  0.787072\n",
       "10R       0.818472     0.974006  0.960044  0.979189  0.764945\n",
       "10L       0.810821     0.981297  0.965479  0.985191  0.794372\n",
       "11R       0.830739     0.986142  0.974167  0.990064  0.818108\n",
       "11L       0.854143     0.984426  0.974405  0.990909  0.823288\n",
       "12R       0.826278     0.979168  0.962883  0.986705  0.805084\n",
       "12L       0.806530     0.974887  0.957440  0.980788  0.773365\n",
       "13R       0.710529     0.985488  0.959718  0.981577  0.748803\n",
       "13L       0.771759     0.983360  0.963918  0.984341  0.777909\n",
       "14R       0.778138     0.984928  0.967564  0.982883  0.783914\n",
       "14L       0.784339     0.987131  0.966914  0.988687  0.808510"
      ]
     },
     "execution_count": 8,
     "metadata": {},
     "output_type": "execute_result"
    }
   ],
   "source": [
    "df"
   ]
  },
  {
   "cell_type": "markdown",
   "metadata": {},
   "source": [
    "### **Average Results**"
   ]
  },
  {
   "cell_type": "code",
   "execution_count": 9,
   "metadata": {
    "collapsed": false,
    "jupyter": {
     "outputs_hidden": false
    }
   },
   "outputs": [
    {
     "data": {
      "text/plain": [
       "Sensitivity    0.777929\n",
       "Specificity    0.986424\n",
       "Accuracy       0.965332\n",
       "AUC            0.985544\n",
       "MCC            0.800887\n",
       "dtype: float64"
      ]
     },
     "execution_count": 9,
     "metadata": {},
     "output_type": "execute_result"
    }
   ],
   "source": [
    "df.mean()"
   ]
  }
 ],
 "metadata": {
  "anaconda-cloud": {},
  "kernelspec": {
   "display_name": "Python 3 (ipykernel)",
   "language": "python",
   "name": "python3"
  },
  "language_info": {
   "codemirror_mode": {
    "name": "ipython",
    "version": 3
   },
   "file_extension": ".py",
   "mimetype": "text/x-python",
   "name": "python",
   "nbconvert_exporter": "python",
   "pygments_lexer": "ipython3",
   "version": "3.9.6"
  }
 },
 "nbformat": 4,
 "nbformat_minor": 4
}
