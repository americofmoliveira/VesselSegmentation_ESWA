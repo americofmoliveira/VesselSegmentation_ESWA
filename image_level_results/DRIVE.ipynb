{
 "cells": [
  {
   "cell_type": "markdown",
   "metadata": {},
   "source": [
    "### **Imports**"
   ]
  },
  {
   "cell_type": "code",
   "execution_count": 1,
   "metadata": {
    "collapsed": false,
    "jupyter": {
     "outputs_hidden": false
    }
   },
   "outputs": [],
   "source": [
    "from file_io import load as load_image\n",
    "from joblib import load\n",
    "import numpy as np\n",
    "import pandas as pd"
   ]
  },
  {
   "cell_type": "markdown",
   "metadata": {},
   "source": [
    "### **Auxiliary Function**\n",
    "\n",
    "_ Inputs_\n",
    "\n",
    "* __pred -__ the  binary segmentation;\n",
    "* __gt -__ the ground truth; \n",
    "* __mask -__ the binary mask; \n",
    "* __ prob -__ the probability map.\n",
    "\n",
    "_ Outputs _\n",
    "\n",
    "* __sen -__ Sensibility;\n",
    "* __spec -__ Specificity; \n",
    "* __acc -__ Accuracy; \n",
    "* __ auc -__ Area Under the ROC curve;\n",
    "* __ mcc -__ Matthews Correlation Coefficient."
   ]
  },
  {
   "cell_type": "code",
   "execution_count": 2,
   "metadata": {
    "collapsed": true,
    "jupyter": {
     "outputs_hidden": true
    }
   },
   "outputs": [],
   "source": [
    "from sklearn.metrics import confusion_matrix, roc_auc_score, matthews_corrcoef\n",
    "\n",
    "def perform_metrics (pred, gt, mask, prob):\n",
    "    \n",
    "    # Suppressing background regions.\n",
    "    pred = pred[mask>0]\n",
    "    gt = gt[mask>0]\n",
    "    prob = prob[mask>0]\n",
    "\n",
    "    # Building confusion matrix.\n",
    "    c_matrix = confusion_matrix(gt, pred)\n",
    "    \n",
    "    # Calculating ratios.\n",
    "    tn = c_matrix[0,0]\n",
    "    tp = c_matrix[1,1]\n",
    "    fn = c_matrix[1,0]\n",
    "    fp = c_matrix[0,1]\n",
    "    \n",
    "    # Finding the metrics.\n",
    "    sen  = tp/(tp + fn)\n",
    "    spec = tn/(tn + fp)\n",
    "    acc  = (tp + tn)/(tp + tn + fp + fn)\n",
    "    auc  = roc_auc_score (gt, prob)\n",
    "    mcc  = matthews_corrcoef (gt, pred)\n",
    "    \n",
    "    \n",
    "    return sen, spec, acc, auc, mcc"
   ]
  },
  {
   "cell_type": "markdown",
   "metadata": {},
   "source": [
    "### **Loading**"
   ]
  },
  {
   "cell_type": "code",
   "execution_count": 3,
   "metadata": {
    "collapsed": true,
    "jupyter": {
     "outputs_hidden": true
    }
   },
   "outputs": [],
   "source": [
    "test_images = range(1,21)\n",
    "r_width, r_height = 565, 584"
   ]
  },
  {
   "cell_type": "code",
   "execution_count": 4,
   "metadata": {
    "collapsed": false,
    "jupyter": {
     "outputs_hidden": false
    }
   },
   "outputs": [],
   "source": [
    "gts = np.zeros((len(test_images), r_height, r_width))\n",
    "masks = np.zeros ((len(test_images), r_height, r_width))\n",
    "segs = np.zeros((len(test_images), r_height, r_width))\n",
    "probs = np.zeros((len(test_images), r_height, r_width))"
   ]
  },
  {
   "cell_type": "markdown",
   "metadata": {},
   "source": [
    "In order for you to run the cell below, please download the gts and masks from [DRIVE's website](https://www.isi.uu.nl/Research/Databases/DRIVE/) and change the paths accordingly."
   ]
  },
  {
   "cell_type": "code",
   "execution_count": 5,
   "metadata": {
    "collapsed": false,
    "jupyter": {
     "outputs_hidden": false
    }
   },
   "outputs": [],
   "source": [
    "#Change these paths\n",
    "gts_path = '../resources/gts/DRIVE/'\n",
    "masks_path = '../resources/masks/DRIVE/'\n",
    "\n",
    "for i, image in enumerate(test_images):\n",
    "    gt = load_image(gts_path + '%02d_manual1.gif' %image, normalize = True)\n",
    "    mask = load_image(masks_path + '%02d_test_mask.gif' %image)\n",
    "    seg = load_image('../resources/binary_segmentations/DRIVE/seg_%04d.png' %image, normalize = True)\n",
    "    prob = load('../resources/probability_maps/DRIVE/prob_%04d.npy' %image)[1]\n",
    "    \n",
    "    gts[i] = gt\n",
    "    masks [i] = mask\n",
    "    segs[i] = seg\n",
    "    probs[i] = prob"
   ]
  },
  {
   "cell_type": "markdown",
   "metadata": {},
   "source": [
    "### **Calculating metrics**"
   ]
  },
  {
   "cell_type": "code",
   "execution_count": 6,
   "metadata": {
    "collapsed": false,
    "jupyter": {
     "outputs_hidden": false
    }
   },
   "outputs": [],
   "source": [
    "sen_list, spec_list, acc_list, auc_list, mcc_list = [], [], [], [], []\n",
    "\n",
    "for i in range (len(gts)):\n",
    "    sen, spec, acc, auc, mcc = perform_metrics (segs[i], gts[i], masks[i], probs[i])\n",
    "    sen_list.append(sen)\n",
    "    spec_list.append(spec)\n",
    "    acc_list.append(acc)\n",
    "    auc_list.append(auc)\n",
    "    mcc_list.append(mcc)"
   ]
  },
  {
   "cell_type": "markdown",
   "metadata": {},
   "source": [
    "### **Storing the data**"
   ]
  },
  {
   "cell_type": "code",
   "execution_count": 7,
   "metadata": {
    "collapsed": false,
    "jupyter": {
     "outputs_hidden": false
    }
   },
   "outputs": [],
   "source": [
    "data = {'Image' : list(range(1,21)), 'Sensitivity': sen_list, 'Specificity': spec_list, \n",
    "        'Accuracy': acc_list, 'AUC': auc_list, 'MCC': mcc_list}\n",
    "\n",
    "df = pd.DataFrame(data = data)\n",
    "df = df[['Image', 'Sensitivity','Specificity','Accuracy', 'AUC', 'MCC']]\n",
    "df.set_index('Image', inplace = True);"
   ]
  },
  {
   "cell_type": "markdown",
   "metadata": {},
   "source": [
    "### **Image-level results**"
   ]
  },
  {
   "cell_type": "code",
   "execution_count": 8,
   "metadata": {
    "collapsed": false,
    "jupyter": {
     "outputs_hidden": false
    }
   },
   "outputs": [
    {
     "data": {
      "text/html": [
       "<div>\n",
       "<table border=\"1\" class=\"dataframe\">\n",
       "  <thead>\n",
       "    <tr style=\"text-align: right;\">\n",
       "      <th></th>\n",
       "      <th>Sensitivity</th>\n",
       "      <th>Specificity</th>\n",
       "      <th>Accuracy</th>\n",
       "      <th>AUC</th>\n",
       "      <th>MCC</th>\n",
       "    </tr>\n",
       "    <tr>\n",
       "      <th>Image</th>\n",
       "      <th></th>\n",
       "      <th></th>\n",
       "      <th></th>\n",
       "      <th></th>\n",
       "      <th></th>\n",
       "    </tr>\n",
       "  </thead>\n",
       "  <tbody>\n",
       "    <tr>\n",
       "      <th>1</th>\n",
       "      <td>0.879165</td>\n",
       "      <td>0.968076</td>\n",
       "      <td>0.956422</td>\n",
       "      <td>0.986409</td>\n",
       "      <td>0.816832</td>\n",
       "    </tr>\n",
       "    <tr>\n",
       "      <th>2</th>\n",
       "      <td>0.848293</td>\n",
       "      <td>0.978392</td>\n",
       "      <td>0.958900</td>\n",
       "      <td>0.987261</td>\n",
       "      <td>0.836836</td>\n",
       "    </tr>\n",
       "    <tr>\n",
       "      <th>3</th>\n",
       "      <td>0.762847</td>\n",
       "      <td>0.981555</td>\n",
       "      <td>0.949691</td>\n",
       "      <td>0.978555</td>\n",
       "      <td>0.788990</td>\n",
       "    </tr>\n",
       "    <tr>\n",
       "      <th>4</th>\n",
       "      <td>0.793692</td>\n",
       "      <td>0.984156</td>\n",
       "      <td>0.958761</td>\n",
       "      <td>0.978337</td>\n",
       "      <td>0.814988</td>\n",
       "    </tr>\n",
       "    <tr>\n",
       "      <th>5</th>\n",
       "      <td>0.746262</td>\n",
       "      <td>0.986031</td>\n",
       "      <td>0.953494</td>\n",
       "      <td>0.975649</td>\n",
       "      <td>0.791107</td>\n",
       "    </tr>\n",
       "    <tr>\n",
       "      <th>6</th>\n",
       "      <td>0.731163</td>\n",
       "      <td>0.987021</td>\n",
       "      <td>0.950914</td>\n",
       "      <td>0.975822</td>\n",
       "      <td>0.785746</td>\n",
       "    </tr>\n",
       "    <tr>\n",
       "      <th>7</th>\n",
       "      <td>0.754545</td>\n",
       "      <td>0.987141</td>\n",
       "      <td>0.956346</td>\n",
       "      <td>0.978605</td>\n",
       "      <td>0.800041</td>\n",
       "    </tr>\n",
       "    <tr>\n",
       "      <th>8</th>\n",
       "      <td>0.736428</td>\n",
       "      <td>0.985686</td>\n",
       "      <td>0.954357</td>\n",
       "      <td>0.977920</td>\n",
       "      <td>0.780624</td>\n",
       "    </tr>\n",
       "    <tr>\n",
       "      <th>9</th>\n",
       "      <td>0.725355</td>\n",
       "      <td>0.989523</td>\n",
       "      <td>0.958495</td>\n",
       "      <td>0.977727</td>\n",
       "      <td>0.787035</td>\n",
       "    </tr>\n",
       "    <tr>\n",
       "      <th>10</th>\n",
       "      <td>0.794232</td>\n",
       "      <td>0.979773</td>\n",
       "      <td>0.957613</td>\n",
       "      <td>0.978860</td>\n",
       "      <td>0.793861</td>\n",
       "    </tr>\n",
       "    <tr>\n",
       "      <th>11</th>\n",
       "      <td>0.808790</td>\n",
       "      <td>0.976750</td>\n",
       "      <td>0.954976</td>\n",
       "      <td>0.978575</td>\n",
       "      <td>0.797623</td>\n",
       "    </tr>\n",
       "    <tr>\n",
       "      <th>12</th>\n",
       "      <td>0.829870</td>\n",
       "      <td>0.980042</td>\n",
       "      <td>0.961244</td>\n",
       "      <td>0.985930</td>\n",
       "      <td>0.820816</td>\n",
       "    </tr>\n",
       "    <tr>\n",
       "      <th>13</th>\n",
       "      <td>0.774991</td>\n",
       "      <td>0.984425</td>\n",
       "      <td>0.954734</td>\n",
       "      <td>0.979697</td>\n",
       "      <td>0.805862</td>\n",
       "    </tr>\n",
       "    <tr>\n",
       "      <th>14</th>\n",
       "      <td>0.850400</td>\n",
       "      <td>0.976388</td>\n",
       "      <td>0.961533</td>\n",
       "      <td>0.985744</td>\n",
       "      <td>0.817311</td>\n",
       "    </tr>\n",
       "    <tr>\n",
       "      <th>15</th>\n",
       "      <td>0.840208</td>\n",
       "      <td>0.978943</td>\n",
       "      <td>0.964537</td>\n",
       "      <td>0.984685</td>\n",
       "      <td>0.811343</td>\n",
       "    </tr>\n",
       "    <tr>\n",
       "      <th>16</th>\n",
       "      <td>0.803431</td>\n",
       "      <td>0.982663</td>\n",
       "      <td>0.959213</td>\n",
       "      <td>0.986080</td>\n",
       "      <td>0.815205</td>\n",
       "    </tr>\n",
       "    <tr>\n",
       "      <th>17</th>\n",
       "      <td>0.757244</td>\n",
       "      <td>0.983998</td>\n",
       "      <td>0.956039</td>\n",
       "      <td>0.982802</td>\n",
       "      <td>0.787119</td>\n",
       "    </tr>\n",
       "    <tr>\n",
       "      <th>18</th>\n",
       "      <td>0.857596</td>\n",
       "      <td>0.971911</td>\n",
       "      <td>0.958781</td>\n",
       "      <td>0.986707</td>\n",
       "      <td>0.804275</td>\n",
       "    </tr>\n",
       "    <tr>\n",
       "      <th>19</th>\n",
       "      <td>0.911938</td>\n",
       "      <td>0.974213</td>\n",
       "      <td>0.966718</td>\n",
       "      <td>0.990305</td>\n",
       "      <td>0.850616</td>\n",
       "    </tr>\n",
       "    <tr>\n",
       "      <th>20</th>\n",
       "      <td>0.872156</td>\n",
       "      <td>0.970304</td>\n",
       "      <td>0.959837</td>\n",
       "      <td>0.986970</td>\n",
       "      <td>0.801529</td>\n",
       "    </tr>\n",
       "  </tbody>\n",
       "</table>\n",
       "</div>"
      ],
      "text/plain": [
       "       Sensitivity  Specificity  Accuracy       AUC       MCC\n",
       "Image                                                        \n",
       "1         0.879165     0.968076  0.956422  0.986409  0.816832\n",
       "2         0.848293     0.978392  0.958900  0.987261  0.836836\n",
       "3         0.762847     0.981555  0.949691  0.978555  0.788990\n",
       "4         0.793692     0.984156  0.958761  0.978337  0.814988\n",
       "5         0.746262     0.986031  0.953494  0.975649  0.791107\n",
       "6         0.731163     0.987021  0.950914  0.975822  0.785746\n",
       "7         0.754545     0.987141  0.956346  0.978605  0.800041\n",
       "8         0.736428     0.985686  0.954357  0.977920  0.780624\n",
       "9         0.725355     0.989523  0.958495  0.977727  0.787035\n",
       "10        0.794232     0.979773  0.957613  0.978860  0.793861\n",
       "11        0.808790     0.976750  0.954976  0.978575  0.797623\n",
       "12        0.829870     0.980042  0.961244  0.985930  0.820816\n",
       "13        0.774991     0.984425  0.954734  0.979697  0.805862\n",
       "14        0.850400     0.976388  0.961533  0.985744  0.817311\n",
       "15        0.840208     0.978943  0.964537  0.984685  0.811343\n",
       "16        0.803431     0.982663  0.959213  0.986080  0.815205\n",
       "17        0.757244     0.983998  0.956039  0.982802  0.787119\n",
       "18        0.857596     0.971911  0.958781  0.986707  0.804275\n",
       "19        0.911938     0.974213  0.966718  0.990305  0.850616\n",
       "20        0.872156     0.970304  0.959837  0.986970  0.801529"
      ]
     },
     "execution_count": 8,
     "metadata": {},
     "output_type": "execute_result"
    }
   ],
   "source": [
    "df"
   ]
  },
  {
   "cell_type": "markdown",
   "metadata": {},
   "source": [
    "### **Average Results**"
   ]
  },
  {
   "cell_type": "code",
   "execution_count": 9,
   "metadata": {
    "collapsed": false,
    "jupyter": {
     "outputs_hidden": false
    }
   },
   "outputs": [
    {
     "data": {
      "text/plain": [
       "Sensitivity    0.803930\n",
       "Specificity    0.980350\n",
       "Accuracy       0.957630\n",
       "AUC            0.982132\n",
       "MCC            0.805388\n",
       "dtype: float64"
      ]
     },
     "execution_count": 9,
     "metadata": {},
     "output_type": "execute_result"
    }
   ],
   "source": [
    "df.mean()"
   ]
  }
 ],
 "metadata": {
  "anaconda-cloud": {},
  "kernelspec": {
   "display_name": "Python 3 (ipykernel)",
   "language": "python",
   "name": "python3"
  },
  "language_info": {
   "codemirror_mode": {
    "name": "ipython",
    "version": 3
   },
   "file_extension": ".py",
   "mimetype": "text/x-python",
   "name": "python",
   "nbconvert_exporter": "python",
   "pygments_lexer": "ipython3",
   "version": "3.9.6"
  }
 },
 "nbformat": 4,
 "nbformat_minor": 4
}
