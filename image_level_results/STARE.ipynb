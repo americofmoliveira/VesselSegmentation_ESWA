{
 "cells": [
  {
   "cell_type": "markdown",
   "metadata": {},
   "source": [
    "### **Imports**"
   ]
  },
  {
   "cell_type": "code",
   "execution_count": 1,
   "metadata": {
    "collapsed": false,
    "jupyter": {
     "outputs_hidden": false
    }
   },
   "outputs": [],
   "source": [
    "from file_io import load as load_image\n",
    "from joblib import load\n",
    "import numpy as np\n",
    "import pandas as pd"
   ]
  },
  {
   "cell_type": "markdown",
   "metadata": {},
   "source": [
    "### **Auxiliary Function**\n",
    "\n",
    "_ Inputs_\n",
    "\n",
    "* __pred -__ the  binary segmentation;\n",
    "* __gt -__ the ground truth; \n",
    "* __mask -__ the binary mask; \n",
    "* __ prob -__ the probability map.\n",
    "\n",
    "_ Outputs _\n",
    "\n",
    "* __sen -__ Sensibility;\n",
    "* __spec -__ Specificity; \n",
    "* __acc -__ Accuracy; \n",
    "* __ auc -__ Area Under the ROC curve;\n",
    "* __ mcc -__ Matthews Correlation Coefficient."
   ]
  },
  {
   "cell_type": "code",
   "execution_count": 2,
   "metadata": {},
   "outputs": [],
   "source": [
    "from sklearn.metrics import confusion_matrix, roc_auc_score, matthews_corrcoef\n",
    "\n",
    "def perform_metrics (pred, gt, mask, prob):\n",
    "    \n",
    "    # Suppressing background regions.\n",
    "    pred = pred[mask>0]\n",
    "    gt = gt[mask>0]\n",
    "    prob = prob[mask>0]\n",
    "\n",
    "    # Building confusion matrix.\n",
    "    c_matrix = confusion_matrix(gt, pred)\n",
    "    \n",
    "    # Calculating ratios.\n",
    "    tn = c_matrix[0,0]\n",
    "    tp = c_matrix[1,1]\n",
    "    fn = c_matrix[1,0]\n",
    "    fp = c_matrix[0,1]\n",
    "    \n",
    "    # Finding the metrics.\n",
    "    sen  = tp/(tp+fn)\n",
    "    spec = tn/(tn+fp)\n",
    "    acc  = (tp+tn)/(tp+tn+fp+fn)\n",
    "    auc  = roc_auc_score (gt, prob)\n",
    "    mcc  = matthews_corrcoef (gt, pred)\n",
    "    \n",
    "    \n",
    "    return sen, spec, acc, auc, mcc"
   ]
  },
  {
   "cell_type": "markdown",
   "metadata": {},
   "source": [
    "### **Loading**"
   ]
  },
  {
   "cell_type": "code",
   "execution_count": 3,
   "metadata": {},
   "outputs": [],
   "source": [
    "test_images = [1, 2, 3, 4, 5, 44, 77, 81, 82, 139, 162, 163, 235, 236, 239, 240, 255, 291, 319, 324]\n",
    "r_width, r_height = 700, 605"
   ]
  },
  {
   "cell_type": "code",
   "execution_count": 4,
   "metadata": {
    "collapsed": false,
    "jupyter": {
     "outputs_hidden": false
    }
   },
   "outputs": [],
   "source": [
    "gts = np.zeros((len(test_images), r_height, r_width))\n",
    "masks = np.zeros ((len(test_images), r_height, r_width))\n",
    "segs = np.zeros((len(test_images), r_height, r_width))\n",
    "probs = np.zeros((len(test_images), r_height, r_width))"
   ]
  },
  {
   "cell_type": "markdown",
   "metadata": {},
   "source": [
    "In order for you to run the cell below, please download the annotations from [STARE's website](http://cecas.clemson.edu/~ahoover/stare/) and change the paths accordingly."
   ]
  },
  {
   "cell_type": "code",
   "execution_count": 5,
   "metadata": {
    "collapsed": false,
    "jupyter": {
     "outputs_hidden": false
    }
   },
   "outputs": [],
   "source": [
    "#Change these paths\n",
    "gts_path = '../resources/gts/STARE/'\n",
    "\n",
    "for i, image in enumerate(test_images):\n",
    "    gt = load_image(gts_path + 'im%04d.ah.ppm.gz' %image, normalize = True)\n",
    "    mask = load_image('../resources/masks/STARE/mask_%04d.png' %image)\n",
    "    seg = load_image('../resources/binary_segmentations/STARE/seg_%04d.png' %image, normalize = True)\n",
    "    prob = load('../resources/probability_maps/STARE/prob_%04d.npy' %image)[1]\n",
    "    \n",
    "    gts[i] = gt\n",
    "    masks [i] = mask\n",
    "    segs[i] = seg\n",
    "    probs[i] = prob"
   ]
  },
  {
   "cell_type": "markdown",
   "metadata": {},
   "source": [
    "### **Calculating**"
   ]
  },
  {
   "cell_type": "code",
   "execution_count": 6,
   "metadata": {
    "collapsed": false,
    "jupyter": {
     "outputs_hidden": false
    }
   },
   "outputs": [],
   "source": [
    "sen_list, spec_list, acc_list, auc_list, mcc_list = [], [], [], [], []\n",
    "\n",
    "for i in range (len(gts)):\n",
    "    sen, spec, acc, auc, mcc = perform_metrics (segs[i], gts[i], masks[i], probs[i])\n",
    "    sen_list.append(sen)\n",
    "    spec_list.append(spec)\n",
    "    acc_list.append(acc)\n",
    "    auc_list.append(auc)\n",
    "    mcc_list.append(mcc)"
   ]
  },
  {
   "cell_type": "markdown",
   "metadata": {},
   "source": [
    "### __Storing the data__"
   ]
  },
  {
   "cell_type": "code",
   "execution_count": 7,
   "metadata": {
    "collapsed": false,
    "jupyter": {
     "outputs_hidden": false
    }
   },
   "outputs": [],
   "source": [
    "data = {'Image' : test_images, 'Sensitivity': sen_list, 'Specificity': spec_list, 'Accuracy': acc_list, \n",
    "        'AUC': auc_list, 'MCC': mcc_list}\n",
    "df = pd.DataFrame(data = data)\n",
    "df = df[['Image', 'Sensitivity','Specificity','Accuracy', 'AUC', 'MCC']]\n",
    "df.set_index('Image', inplace = True)"
   ]
  },
  {
   "cell_type": "markdown",
   "metadata": {},
   "source": [
    "### **Image-level Results (all images)**"
   ]
  },
  {
   "cell_type": "code",
   "execution_count": 8,
   "metadata": {
    "collapsed": false,
    "jupyter": {
     "outputs_hidden": false
    }
   },
   "outputs": [
    {
     "data": {
      "text/html": [
       "<div>\n",
       "<table border=\"1\" class=\"dataframe\">\n",
       "  <thead>\n",
       "    <tr style=\"text-align: right;\">\n",
       "      <th></th>\n",
       "      <th>Sensitivity</th>\n",
       "      <th>Specificity</th>\n",
       "      <th>Accuracy</th>\n",
       "      <th>AUC</th>\n",
       "      <th>MCC</th>\n",
       "    </tr>\n",
       "    <tr>\n",
       "      <th>Image</th>\n",
       "      <th></th>\n",
       "      <th></th>\n",
       "      <th></th>\n",
       "      <th></th>\n",
       "      <th></th>\n",
       "    </tr>\n",
       "  </thead>\n",
       "  <tbody>\n",
       "    <tr>\n",
       "      <th>1</th>\n",
       "      <td>0.749277</td>\n",
       "      <td>0.984616</td>\n",
       "      <td>0.958727</td>\n",
       "      <td>0.978728</td>\n",
       "      <td>0.779073</td>\n",
       "    </tr>\n",
       "    <tr>\n",
       "      <th>2</th>\n",
       "      <td>0.764687</td>\n",
       "      <td>0.990030</td>\n",
       "      <td>0.969156</td>\n",
       "      <td>0.986414</td>\n",
       "      <td>0.807071</td>\n",
       "    </tr>\n",
       "    <tr>\n",
       "      <th>3</th>\n",
       "      <td>0.848127</td>\n",
       "      <td>0.984284</td>\n",
       "      <td>0.973069</td>\n",
       "      <td>0.991206</td>\n",
       "      <td>0.823781</td>\n",
       "    </tr>\n",
       "    <tr>\n",
       "      <th>4</th>\n",
       "      <td>0.618812</td>\n",
       "      <td>0.990561</td>\n",
       "      <td>0.952169</td>\n",
       "      <td>0.983366</td>\n",
       "      <td>0.715714</td>\n",
       "    </tr>\n",
       "    <tr>\n",
       "      <th>5</th>\n",
       "      <td>0.723102</td>\n",
       "      <td>0.982671</td>\n",
       "      <td>0.950291</td>\n",
       "      <td>0.979113</td>\n",
       "      <td>0.759558</td>\n",
       "    </tr>\n",
       "    <tr>\n",
       "      <th>44</th>\n",
       "      <td>0.864852</td>\n",
       "      <td>0.988005</td>\n",
       "      <td>0.977068</td>\n",
       "      <td>0.994379</td>\n",
       "      <td>0.857550</td>\n",
       "    </tr>\n",
       "    <tr>\n",
       "      <th>77</th>\n",
       "      <td>0.934807</td>\n",
       "      <td>0.977548</td>\n",
       "      <td>0.972842</td>\n",
       "      <td>0.994982</td>\n",
       "      <td>0.869819</td>\n",
       "    </tr>\n",
       "    <tr>\n",
       "      <th>81</th>\n",
       "      <td>0.915981</td>\n",
       "      <td>0.983663</td>\n",
       "      <td>0.976719</td>\n",
       "      <td>0.995150</td>\n",
       "      <td>0.877233</td>\n",
       "    </tr>\n",
       "    <tr>\n",
       "      <th>82</th>\n",
       "      <td>0.888098</td>\n",
       "      <td>0.988891</td>\n",
       "      <td>0.977997</td>\n",
       "      <td>0.995226</td>\n",
       "      <td>0.884916</td>\n",
       "    </tr>\n",
       "    <tr>\n",
       "      <th>139</th>\n",
       "      <td>0.893774</td>\n",
       "      <td>0.974099</td>\n",
       "      <td>0.965168</td>\n",
       "      <td>0.990420</td>\n",
       "      <td>0.832439</td>\n",
       "    </tr>\n",
       "    <tr>\n",
       "      <th>162</th>\n",
       "      <td>0.899923</td>\n",
       "      <td>0.982493</td>\n",
       "      <td>0.974312</td>\n",
       "      <td>0.994151</td>\n",
       "      <td>0.860238</td>\n",
       "    </tr>\n",
       "    <tr>\n",
       "      <th>163</th>\n",
       "      <td>0.928466</td>\n",
       "      <td>0.982107</td>\n",
       "      <td>0.976369</td>\n",
       "      <td>0.995721</td>\n",
       "      <td>0.881185</td>\n",
       "    </tr>\n",
       "    <tr>\n",
       "      <th>235</th>\n",
       "      <td>0.863165</td>\n",
       "      <td>0.987590</td>\n",
       "      <td>0.972357</td>\n",
       "      <td>0.993644</td>\n",
       "      <td>0.868986</td>\n",
       "    </tr>\n",
       "    <tr>\n",
       "      <th>236</th>\n",
       "      <td>0.842725</td>\n",
       "      <td>0.988210</td>\n",
       "      <td>0.969916</td>\n",
       "      <td>0.992678</td>\n",
       "      <td>0.859463</td>\n",
       "    </tr>\n",
       "    <tr>\n",
       "      <th>239</th>\n",
       "      <td>0.826686</td>\n",
       "      <td>0.990778</td>\n",
       "      <td>0.971387</td>\n",
       "      <td>0.993546</td>\n",
       "      <td>0.857859</td>\n",
       "    </tr>\n",
       "    <tr>\n",
       "      <th>240</th>\n",
       "      <td>0.768646</td>\n",
       "      <td>0.987064</td>\n",
       "      <td>0.956110</td>\n",
       "      <td>0.982173</td>\n",
       "      <td>0.810959</td>\n",
       "    </tr>\n",
       "    <tr>\n",
       "      <th>255</th>\n",
       "      <td>0.771998</td>\n",
       "      <td>0.993620</td>\n",
       "      <td>0.966063</td>\n",
       "      <td>0.993153</td>\n",
       "      <td>0.836274</td>\n",
       "    </tr>\n",
       "    <tr>\n",
       "      <th>291</th>\n",
       "      <td>0.852669</td>\n",
       "      <td>0.993614</td>\n",
       "      <td>0.983660</td>\n",
       "      <td>0.996362</td>\n",
       "      <td>0.872310</td>\n",
       "    </tr>\n",
       "    <tr>\n",
       "      <th>319</th>\n",
       "      <td>0.838423</td>\n",
       "      <td>0.984812</td>\n",
       "      <td>0.976128</td>\n",
       "      <td>0.990317</td>\n",
       "      <td>0.794418</td>\n",
       "    </tr>\n",
       "    <tr>\n",
       "      <th>324</th>\n",
       "      <td>0.836073</td>\n",
       "      <td>0.981612</td>\n",
       "      <td>0.968130</td>\n",
       "      <td>0.989651</td>\n",
       "      <td>0.811816</td>\n",
       "    </tr>\n",
       "  </tbody>\n",
       "</table>\n",
       "</div>"
      ],
      "text/plain": [
       "       Sensitivity  Specificity  Accuracy       AUC       MCC\n",
       "Image                                                        \n",
       "1         0.749277     0.984616  0.958727  0.978728  0.779073\n",
       "2         0.764687     0.990030  0.969156  0.986414  0.807071\n",
       "3         0.848127     0.984284  0.973069  0.991206  0.823781\n",
       "4         0.618812     0.990561  0.952169  0.983366  0.715714\n",
       "5         0.723102     0.982671  0.950291  0.979113  0.759558\n",
       "44        0.864852     0.988005  0.977068  0.994379  0.857550\n",
       "77        0.934807     0.977548  0.972842  0.994982  0.869819\n",
       "81        0.915981     0.983663  0.976719  0.995150  0.877233\n",
       "82        0.888098     0.988891  0.977997  0.995226  0.884916\n",
       "139       0.893774     0.974099  0.965168  0.990420  0.832439\n",
       "162       0.899923     0.982493  0.974312  0.994151  0.860238\n",
       "163       0.928466     0.982107  0.976369  0.995721  0.881185\n",
       "235       0.863165     0.987590  0.972357  0.993644  0.868986\n",
       "236       0.842725     0.988210  0.969916  0.992678  0.859463\n",
       "239       0.826686     0.990778  0.971387  0.993546  0.857859\n",
       "240       0.768646     0.987064  0.956110  0.982173  0.810959\n",
       "255       0.771998     0.993620  0.966063  0.993153  0.836274\n",
       "291       0.852669     0.993614  0.983660  0.996362  0.872310\n",
       "319       0.838423     0.984812  0.976128  0.990317  0.794418\n",
       "324       0.836073     0.981612  0.968130  0.989651  0.811816"
      ]
     },
     "execution_count": 8,
     "metadata": {},
     "output_type": "execute_result"
    }
   ],
   "source": [
    "df"
   ]
  },
  {
   "cell_type": "markdown",
   "metadata": {},
   "source": [
    "### **Average Results (all images)**"
   ]
  },
  {
   "cell_type": "code",
   "execution_count": 9,
   "metadata": {
    "collapsed": false,
    "jupyter": {
     "outputs_hidden": false
    }
   },
   "outputs": [
    {
     "data": {
      "text/plain": [
       "Sensitivity    0.831514\n",
       "Specificity    0.985813\n",
       "Accuracy       0.969382\n",
       "AUC            0.990519\n",
       "MCC            0.833033\n",
       "dtype: float64"
      ]
     },
     "execution_count": 9,
     "metadata": {},
     "output_type": "execute_result"
    }
   ],
   "source": [
    "df.mean()"
   ]
  },
  {
   "cell_type": "markdown",
   "metadata": {},
   "source": [
    "### **Image-level Results (pathological images)**"
   ]
  },
  {
   "cell_type": "code",
   "execution_count": 10,
   "metadata": {},
   "outputs": [],
   "source": [
    "pathological_images = [1, 2, 3, 4, 5, 44, 139, 291, 319, 324]\n",
    "df_pathological = df.loc[pathological_images,:]"
   ]
  },
  {
   "cell_type": "code",
   "execution_count": 11,
   "metadata": {
    "collapsed": false,
    "jupyter": {
     "outputs_hidden": false
    }
   },
   "outputs": [
    {
     "data": {
      "text/html": [
       "<div>\n",
       "<table border=\"1\" class=\"dataframe\">\n",
       "  <thead>\n",
       "    <tr style=\"text-align: right;\">\n",
       "      <th></th>\n",
       "      <th>Sensitivity</th>\n",
       "      <th>Specificity</th>\n",
       "      <th>Accuracy</th>\n",
       "      <th>AUC</th>\n",
       "      <th>MCC</th>\n",
       "    </tr>\n",
       "    <tr>\n",
       "      <th>Image</th>\n",
       "      <th></th>\n",
       "      <th></th>\n",
       "      <th></th>\n",
       "      <th></th>\n",
       "      <th></th>\n",
       "    </tr>\n",
       "  </thead>\n",
       "  <tbody>\n",
       "    <tr>\n",
       "      <th>1</th>\n",
       "      <td>0.749277</td>\n",
       "      <td>0.984616</td>\n",
       "      <td>0.958727</td>\n",
       "      <td>0.978728</td>\n",
       "      <td>0.779073</td>\n",
       "    </tr>\n",
       "    <tr>\n",
       "      <th>2</th>\n",
       "      <td>0.764687</td>\n",
       "      <td>0.990030</td>\n",
       "      <td>0.969156</td>\n",
       "      <td>0.986414</td>\n",
       "      <td>0.807071</td>\n",
       "    </tr>\n",
       "    <tr>\n",
       "      <th>3</th>\n",
       "      <td>0.848127</td>\n",
       "      <td>0.984284</td>\n",
       "      <td>0.973069</td>\n",
       "      <td>0.991206</td>\n",
       "      <td>0.823781</td>\n",
       "    </tr>\n",
       "    <tr>\n",
       "      <th>4</th>\n",
       "      <td>0.618812</td>\n",
       "      <td>0.990561</td>\n",
       "      <td>0.952169</td>\n",
       "      <td>0.983366</td>\n",
       "      <td>0.715714</td>\n",
       "    </tr>\n",
       "    <tr>\n",
       "      <th>5</th>\n",
       "      <td>0.723102</td>\n",
       "      <td>0.982671</td>\n",
       "      <td>0.950291</td>\n",
       "      <td>0.979113</td>\n",
       "      <td>0.759558</td>\n",
       "    </tr>\n",
       "    <tr>\n",
       "      <th>44</th>\n",
       "      <td>0.864852</td>\n",
       "      <td>0.988005</td>\n",
       "      <td>0.977068</td>\n",
       "      <td>0.994379</td>\n",
       "      <td>0.857550</td>\n",
       "    </tr>\n",
       "    <tr>\n",
       "      <th>139</th>\n",
       "      <td>0.893774</td>\n",
       "      <td>0.974099</td>\n",
       "      <td>0.965168</td>\n",
       "      <td>0.990420</td>\n",
       "      <td>0.832439</td>\n",
       "    </tr>\n",
       "    <tr>\n",
       "      <th>291</th>\n",
       "      <td>0.852669</td>\n",
       "      <td>0.993614</td>\n",
       "      <td>0.983660</td>\n",
       "      <td>0.996362</td>\n",
       "      <td>0.872310</td>\n",
       "    </tr>\n",
       "    <tr>\n",
       "      <th>319</th>\n",
       "      <td>0.838423</td>\n",
       "      <td>0.984812</td>\n",
       "      <td>0.976128</td>\n",
       "      <td>0.990317</td>\n",
       "      <td>0.794418</td>\n",
       "    </tr>\n",
       "    <tr>\n",
       "      <th>324</th>\n",
       "      <td>0.836073</td>\n",
       "      <td>0.981612</td>\n",
       "      <td>0.968130</td>\n",
       "      <td>0.989651</td>\n",
       "      <td>0.811816</td>\n",
       "    </tr>\n",
       "  </tbody>\n",
       "</table>\n",
       "</div>"
      ],
      "text/plain": [
       "       Sensitivity  Specificity  Accuracy       AUC       MCC\n",
       "Image                                                        \n",
       "1         0.749277     0.984616  0.958727  0.978728  0.779073\n",
       "2         0.764687     0.990030  0.969156  0.986414  0.807071\n",
       "3         0.848127     0.984284  0.973069  0.991206  0.823781\n",
       "4         0.618812     0.990561  0.952169  0.983366  0.715714\n",
       "5         0.723102     0.982671  0.950291  0.979113  0.759558\n",
       "44        0.864852     0.988005  0.977068  0.994379  0.857550\n",
       "139       0.893774     0.974099  0.965168  0.990420  0.832439\n",
       "291       0.852669     0.993614  0.983660  0.996362  0.872310\n",
       "319       0.838423     0.984812  0.976128  0.990317  0.794418\n",
       "324       0.836073     0.981612  0.968130  0.989651  0.811816"
      ]
     },
     "execution_count": 11,
     "metadata": {},
     "output_type": "execute_result"
    }
   ],
   "source": [
    "df_pathological"
   ]
  },
  {
   "cell_type": "markdown",
   "metadata": {},
   "source": [
    "### **Average Results (pathogenic images)**"
   ]
  },
  {
   "cell_type": "code",
   "execution_count": 12,
   "metadata": {
    "collapsed": false,
    "jupyter": {
     "outputs_hidden": false
    }
   },
   "outputs": [
    {
     "data": {
      "text/plain": [
       "Sensitivity    0.798979\n",
       "Specificity    0.985430\n",
       "Accuracy       0.967357\n",
       "AUC            0.987996\n",
       "MCC            0.805373\n",
       "dtype: float64"
      ]
     },
     "execution_count": 12,
     "metadata": {},
     "output_type": "execute_result"
    }
   ],
   "source": [
    "df_pathological.mean()"
   ]
  }
 ],
 "metadata": {
  "anaconda-cloud": {},
  "kernelspec": {
   "display_name": "Python 3 (ipykernel)",
   "language": "python",
   "name": "python3"
  },
  "language_info": {
   "codemirror_mode": {
    "name": "ipython",
    "version": 3
   },
   "file_extension": ".py",
   "mimetype": "text/x-python",
   "name": "python",
   "nbconvert_exporter": "python",
   "pygments_lexer": "ipython3",
   "version": "3.9.6"
  }
 },
 "nbformat": 4,
 "nbformat_minor": 4
}
