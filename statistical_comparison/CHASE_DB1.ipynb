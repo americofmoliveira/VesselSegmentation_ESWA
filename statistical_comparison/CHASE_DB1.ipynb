{
 "cells": [
  {
   "cell_type": "markdown",
   "metadata": {},
   "source": [
    "### **Imports**"
   ]
  },
  {
   "cell_type": "code",
   "execution_count": 1,
   "metadata": {},
   "outputs": [],
   "source": [
    "from bsa_core.io import load\n",
    "from joblib import load as load_prob\n",
    "from scipy.stats import wilcoxon\n",
    "import numpy as np\n",
    "import pylab as pl\n",
    "pl.gray()"
   ]
  },
  {
   "cell_type": "markdown",
   "metadata": {},
   "source": [
    "### **Auxiliary Function**\n",
    "\n",
    "_ Inputs_\n",
    "\n",
    "* __pred -__ the  binary segmentation;\n",
    "* __gt -__ the ground truth; \n",
    "* __mask -__ the binary mask; \n",
    "* __ prob -__ the probability map (if available).\n",
    "\n",
    "_ Outputs _\n",
    "\n",
    "* __sen -__ Sensibility;\n",
    "* __spec -__ Specificity; \n",
    "* __acc -__ Accuracy; \n",
    "* __ auc -__ Area Under the ROC curve."
   ]
  },
  {
   "cell_type": "code",
   "execution_count": 2,
   "metadata": {},
   "outputs": [],
   "source": [
    "from sklearn.metrics import confusion_matrix, roc_auc_score\n",
    "\n",
    "def perform_metrics (pred, gt, mask, prob = []):\n",
    "    \n",
    "    # Suppressing background regions.\n",
    "    pred = pred[mask > 0]\n",
    "    gt = gt[mask > 0]\n",
    "\n",
    "    # Building confusion matrix.\n",
    "    # # Cij is the number of observations known to be in group i but predicted to be in group j.\n",
    "    c_matrix = confusion_matrix(gt, pred)\n",
    "    \n",
    "    # Calculating ratios.\n",
    "    tn = c_matrix[0,0]\n",
    "    tp = c_matrix[1,1]\n",
    "    fn = c_matrix[1,0]\n",
    "    fp = c_matrix[0,1]\n",
    "    \n",
    "    # Finding the metrics.\n",
    "    sen  = tp/(tp + fn)\n",
    "    spec = tn/(tn + fp)\n",
    "    acc  = (tp + tn)/(tp + tn + fp + fn)\n",
    "    \n",
    "    if len (prob) != 0:\n",
    "        \n",
    "        prob = prob[mask > 0]\n",
    "        auc  = roc_auc_score (gt, prob)\n",
    "        return sen, spec, acc, auc\n",
    "    \n",
    "    return sen, spec, acc"
   ]
  },
  {
   "cell_type": "markdown",
   "metadata": {},
   "source": [
    "### **Loading**"
   ]
  },
  {
   "cell_type": "code",
   "execution_count": 3,
   "metadata": {
    "collapsed": false,
    "jupyter": {
     "outputs_hidden": false
    }
   },
   "outputs": [],
   "source": [
    "test_cases = ['01R', '01L', '02R', '02L', '03R', '03L', '04R', '04L', '05R', '05L', '06R', '06L', '07R', '07L', '08R', '08L', '09R', '09L', '10R', '10L', '11R', '11L', '12R', '12L', '13R', '13L', '14R', '14L']\n",
    "r_width, r_height = 999, 960"
   ]
  },
  {
   "cell_type": "code",
   "execution_count": 4,
   "metadata": {
    "collapsed": false,
    "jupyter": {
     "outputs_hidden": false
    }
   },
   "outputs": [],
   "source": [
    "gts = np.zeros((len(test_cases), r_height, r_width))\n",
    "masks = np.zeros ((len(test_cases), r_height, r_width))"
   ]
  },
  {
   "cell_type": "code",
   "execution_count": 5,
   "metadata": {},
   "outputs": [],
   "source": [
    "# Azzopardi (2015)\n",
    "segs_azzopardi = np.zeros((len(test_cases), r_height, r_width))"
   ]
  },
  {
   "cell_type": "code",
   "execution_count": 6,
   "metadata": {},
   "outputs": [],
   "source": [
    "# Fu (2016)\n",
    "segs_fu = np.zeros((len(test_cases), r_height, r_width))\n",
    "probs_fu = np.zeros((len(test_cases), r_height, r_width))"
   ]
  },
  {
   "cell_type": "code",
   "execution_count": 7,
   "metadata": {},
   "outputs": [],
   "source": [
    "# This work (2018)\n",
    "segs = np.zeros((len(test_cases), r_height, r_width))\n",
    "probs = np.zeros((len(test_cases), r_height, r_width))"
   ]
  },
  {
   "cell_type": "markdown",
   "metadata": {},
   "source": [
    "In order for you to run the cell below, please download the resources from the links below and change the paths accordingly.\n",
    "\n",
    "* [Azzopardi (2015)](http://www.cs.rug.nl/~nick/results/)\n",
    "* [Fu (2016)](http://hzfu.github.io/proj_deepvessel.htmlSH)"
   ]
  },
  {
   "cell_type": "code",
   "execution_count": 8,
   "metadata": {
    "collapsed": false,
    "jupyter": {
     "outputs_hidden": false
    }
   },
   "outputs": [],
   "source": [
    "#Change these paths\n",
    "gts_path = '../resources/gts/CHASE_DB1/'\n",
    "masks_path = '../resources/masks/CHASE_DB1/'\n",
    "azzopardi_path = '../resources/azzopardi_2015/CHASE_DB1/'\n",
    "fu_path = '../resources/fu_2016/CHASE_DB1/'\n",
    "\n",
    "for i, case in enumerate(test_cases):\n",
    "    \n",
    "    # Ground-truth and masks\n",
    "    gt = load(gts_path + 'Image_%s_1stHO.png' %case, normalize = True)\n",
    "    gts[i] = gt\n",
    "    mask = load(masks_path + 'mask_%s.png' %case)\n",
    "    masks[i] = mask\n",
    "    \n",
    "    # Azzopardi (2015)\n",
    "    seg_azzopardi = load(azzopardi_path + 'Image_%s.gif' %case, normalize = True)[:,:,0]\n",
    "    segs_azzopardi[i] = seg_azzopardi\n",
    "    \n",
    "    # Fu (2016)\n",
    "    seg_fu = load(fu_path + 'Image_%s_seg_result.png' %case, normalize = True)\n",
    "    segs_fu[i] = seg_fu\n",
    "    prob_fu = load(fu_path + 'Image_%s_CRF_result.png' %case, normalize = True)\n",
    "    probs_fu[i] = prob_fu\n",
    "    \n",
    "    # This work (2018)\n",
    "    seg = load('../resources/binary_segmentations/CHASE_DB1/seg_%s.png' %case, normalize = True)\n",
    "    prob = load_prob('../resources/probability_maps/CHASE_DB1/prob_%s.npy' %case)[1] \n",
    "    segs[i] = seg\n",
    "    probs[i] = prob"
   ]
  },
  {
   "cell_type": "markdown",
   "metadata": {},
   "source": [
    "### **Calculating metrics**"
   ]
  },
  {
   "cell_type": "code",
   "execution_count": 9,
   "metadata": {
    "collapsed": false,
    "jupyter": {
     "outputs_hidden": false
    }
   },
   "outputs": [],
   "source": [
    "def get_metrics (segs, gts, masks, probs = []):\n",
    "\n",
    "    if len(probs) != 0:\n",
    "\n",
    "        sen_list, spec_list, acc_list, auc_list = [], [], [], []\n",
    "\n",
    "        for i in range (len(gts)):\n",
    "            sen, spec, acc, auc = perform_metrics (segs[i], gts[i], masks[i], probs[i])\n",
    "            sen_list.append(sen)\n",
    "            spec_list.append(spec)\n",
    "            acc_list.append(acc)\n",
    "            auc_list.append(auc)\n",
    "            \n",
    "        return sen_list, spec_list, acc_list, auc_list\n",
    "            \n",
    "    else:\n",
    "    \n",
    "        sen_list, spec_list, acc_list = [], [], []\n",
    "\n",
    "        for i in range (len(gts)):\n",
    "            sen, spec, acc = perform_metrics (segs[i], gts[i], masks[i])\n",
    "            sen_list.append(sen)\n",
    "            spec_list.append(spec)\n",
    "            acc_list.append(acc)\n",
    "            \n",
    "        return sen_list, spec_list, acc_list\n"
   ]
  },
  {
   "cell_type": "code",
   "execution_count": 10,
   "metadata": {
    "collapsed": false,
    "jupyter": {
     "outputs_hidden": false
    }
   },
   "outputs": [],
   "source": [
    "sen_list_azzopardi, spec_list_azzopardi, acc_list_azzopardi = get_metrics (segs_azzopardi, gts, masks)"
   ]
  },
  {
   "cell_type": "code",
   "execution_count": 11,
   "metadata": {},
   "outputs": [],
   "source": [
    "sen_list_fu, spec_list_fu, acc_list_fu, auc_list_fu = get_metrics (segs_fu, gts, masks, probs_fu)"
   ]
  },
  {
   "cell_type": "code",
   "execution_count": 12,
   "metadata": {
    "collapsed": false,
    "jupyter": {
     "outputs_hidden": false
    }
   },
   "outputs": [],
   "source": [
    "sen_list, spec_list, acc_list, auc_list = get_metrics (segs, gts, masks, probs)"
   ]
  },
  {
   "cell_type": "markdown",
   "metadata": {},
   "source": [
    "### **Making Statistical Comparison**"
   ]
  },
  {
   "cell_type": "code",
   "execution_count": 13,
   "metadata": {
    "collapsed": false,
    "jupyter": {
     "outputs_hidden": false
    }
   },
   "outputs": [
    {
     "data": {
      "text/plain": [
       "0.050189847248778868"
      ]
     },
     "execution_count": 13,
     "metadata": {},
     "output_type": "execute_result"
    }
   ],
   "source": [
    "# Azzopardi (2015)\n",
    "_, pvalue = wilcoxon(sen_list_azzopardi, sen_list)\n",
    "pvalue"
   ]
  },
  {
   "cell_type": "code",
   "execution_count": 14,
   "metadata": {
    "collapsed": false,
    "jupyter": {
     "outputs_hidden": false
    }
   },
   "outputs": [
    {
     "data": {
      "text/plain": [
       "3.7896194415808708e-06"
      ]
     },
     "execution_count": 14,
     "metadata": {},
     "output_type": "execute_result"
    }
   ],
   "source": [
    "_, pvalue = wilcoxon(spec_list_azzopardi, spec_list)\n",
    "pvalue"
   ]
  },
  {
   "cell_type": "code",
   "execution_count": 15,
   "metadata": {
    "collapsed": false,
    "jupyter": {
     "outputs_hidden": false
    }
   },
   "outputs": [
    {
     "data": {
      "text/plain": [
       "3.7896194415808708e-06"
      ]
     },
     "execution_count": 15,
     "metadata": {},
     "output_type": "execute_result"
    }
   ],
   "source": [
    "_, pvalue = wilcoxon(acc_list_azzopardi, acc_list)\n",
    "pvalue"
   ]
  },
  {
   "cell_type": "code",
   "execution_count": 16,
   "metadata": {
    "collapsed": false,
    "jupyter": {
     "outputs_hidden": false
    }
   },
   "outputs": [],
   "source": [
    "auc_list_azzopardi = [0.9544, 0.9459, 0.9295, 0.9325, 0.9513,\n",
    "                      0.9561, 0.9477, 0.9431, 0.9494, 0.9610,\n",
    "                      0.9424, 0.9453, 0.9433, 0.9425, 0.9499,\n",
    "                      0.9542, 0.9583, 0.9604, 0.9354, 0.9408,\n",
    "                      0.9630, 0.9654, 0.9507, 0.9566, 0.9416,\n",
    "                      0.9377, 0.9631, 0.9429]"
   ]
  },
  {
   "cell_type": "code",
   "execution_count": 17,
   "metadata": {
    "collapsed": false,
    "jupyter": {
     "outputs_hidden": false
    }
   },
   "outputs": [
    {
     "data": {
      "text/plain": [
       "3.7896194415808708e-06"
      ]
     },
     "execution_count": 17,
     "metadata": {},
     "output_type": "execute_result"
    }
   ],
   "source": [
    "_, pvalue = wilcoxon(auc_list_azzopardi, auc_list)\n",
    "pvalue"
   ]
  },
  {
   "cell_type": "code",
   "execution_count": 18,
   "metadata": {
    "collapsed": false,
    "jupyter": {
     "outputs_hidden": false
    }
   },
   "outputs": [
    {
     "data": {
      "text/plain": [
       "9.977698887788448e-06"
      ]
     },
     "execution_count": 18,
     "metadata": {},
     "output_type": "execute_result"
    }
   ],
   "source": [
    "# Fu (2016)\n",
    "_, pvalue = wilcoxon(sen_list_fu, sen_list)\n",
    "pvalue"
   ]
  },
  {
   "cell_type": "code",
   "execution_count": 19,
   "metadata": {
    "collapsed": false,
    "jupyter": {
     "outputs_hidden": false
    }
   },
   "outputs": [
    {
     "data": {
      "text/plain": [
       "3.7896194415808708e-06"
      ]
     },
     "execution_count": 19,
     "metadata": {},
     "output_type": "execute_result"
    }
   ],
   "source": [
    "_, pvalue = wilcoxon(acc_list_fu, acc_list)\n",
    "pvalue"
   ]
  }
 ],
 "metadata": {
  "anaconda-cloud": {},
  "kernelspec": {
   "display_name": "Python 3 (ipykernel)",
   "language": "python",
   "name": "python3"
  },
  "language_info": {
   "codemirror_mode": {
    "name": "ipython",
    "version": 3
   },
   "file_extension": ".py",
   "mimetype": "text/x-python",
   "name": "python",
   "nbconvert_exporter": "python",
   "pygments_lexer": "ipython3",
   "version": "3.9.6"
  }
 },
 "nbformat": 4,
 "nbformat_minor": 4
}
