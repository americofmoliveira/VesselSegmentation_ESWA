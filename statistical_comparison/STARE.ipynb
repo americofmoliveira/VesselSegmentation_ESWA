{
 "cells": [
  {
   "cell_type": "markdown",
   "metadata": {},
   "source": [
    "### **Imports**"
   ]
  },
  {
   "cell_type": "code",
   "execution_count": 1,
   "metadata": {
    "collapsed": true,
    "jupyter": {
     "outputs_hidden": true
    }
   },
   "outputs": [],
   "source": [
    "from bsa_core.io import load\n",
    "from joblib import load as load_prob\n",
    "from scipy.stats import wilcoxon\n",
    "import numpy as np\n",
    "import pylab as pl\n",
    "pl.gray()"
   ]
  },
  {
   "cell_type": "markdown",
   "metadata": {},
   "source": [
    "### **Auxiliary Function**\n",
    "\n",
    "_ Inputs_\n",
    "\n",
    "* __pred -__ the  binary segmentation;\n",
    "* __gt -__ the ground truth; \n",
    "* __mask -__ the binary mask; \n",
    "* __ prob -__ the probability map (if available).\n",
    "\n",
    "_ Outputs _\n",
    "\n",
    "* __sen -__ Sensibility;\n",
    "* __spec -__ Specificity; \n",
    "* __acc -__ Accuracy; \n",
    "* __ auc -__ Area Under the ROC curve."
   ]
  },
  {
   "cell_type": "code",
   "execution_count": 2,
   "metadata": {},
   "outputs": [],
   "source": [
    "from sklearn.metrics import confusion_matrix, roc_auc_score\n",
    "\n",
    "def perform_metrics (pred, gt, mask, prob = []):\n",
    "    \n",
    "    # Suppressing background regions.\n",
    "    pred = pred[mask > 0]\n",
    "    gt = gt[mask > 0]\n",
    "\n",
    "    # Building confusion matrix.\n",
    "    # # Cij is the number of observations known to be in group i but predicted to be in group j.\n",
    "    c_matrix = confusion_matrix(gt, pred)\n",
    "    \n",
    "    # Calculating ratios.\n",
    "    tn = c_matrix[0,0]\n",
    "    tp = c_matrix[1,1]\n",
    "    fn = c_matrix[1,0]\n",
    "    fp = c_matrix[0,1]\n",
    "    \n",
    "    # Finding the metrics.\n",
    "    sen  = tp/(tp + fn)\n",
    "    spec = tn/(tn + fp)\n",
    "    acc  = (tp + tn)/(tp + tn + fp + fn)\n",
    "    \n",
    "    if len (prob) != 0:\n",
    "        \n",
    "        prob = prob[mask > 0]\n",
    "        auc  = roc_auc_score (gt, prob)\n",
    "        return sen, spec, acc, auc\n",
    "    \n",
    "    return sen, spec, acc"
   ]
  },
  {
   "cell_type": "markdown",
   "metadata": {},
   "source": [
    "### **Loading**"
   ]
  },
  {
   "cell_type": "code",
   "execution_count": 3,
   "metadata": {
    "collapsed": false,
    "jupyter": {
     "outputs_hidden": false
    }
   },
   "outputs": [],
   "source": [
    "test_cases = [1, 2, 3, 4, 5, 44, 77, 81, 82, 139, 162, 163, 235, 236, 239, 240, 255, 291, 319, 324]\n",
    "r_width, r_height = 700, 605"
   ]
  },
  {
   "cell_type": "code",
   "execution_count": 4,
   "metadata": {
    "collapsed": false,
    "jupyter": {
     "outputs_hidden": false
    }
   },
   "outputs": [],
   "source": [
    "gts = np.zeros((len(test_cases), r_height, r_width))\n",
    "masks = np.zeros ((len(test_cases), r_height, r_width))"
   ]
  },
  {
   "cell_type": "code",
   "execution_count": 5,
   "metadata": {
    "collapsed": true,
    "jupyter": {
     "outputs_hidden": true
    }
   },
   "outputs": [],
   "source": [
    "# Hoover (2000)\n",
    "segs_hoover = np.zeros((len(test_cases), r_height, r_width))"
   ]
  },
  {
   "cell_type": "code",
   "execution_count": 6,
   "metadata": {
    "collapsed": false,
    "jupyter": {
     "outputs_hidden": false
    }
   },
   "outputs": [],
   "source": [
    "# Nguyen (2013)\n",
    "segs_nguyen = np.zeros((len(test_cases), r_height, r_width))\n",
    "probs_nguyen = np.zeros((len(test_cases), r_height, r_width))"
   ]
  },
  {
   "cell_type": "code",
   "execution_count": 7,
   "metadata": {
    "collapsed": true,
    "jupyter": {
     "outputs_hidden": true
    }
   },
   "outputs": [],
   "source": [
    "# Azzopardi (2015)\n",
    "segs_azzopardi = np.zeros((len(test_cases), r_height, r_width))"
   ]
  },
  {
   "cell_type": "code",
   "execution_count": 8,
   "metadata": {
    "collapsed": true,
    "jupyter": {
     "outputs_hidden": true
    }
   },
   "outputs": [],
   "source": [
    "# Roychowdhury (2015b)\n",
    "segs_roychowdhury_b = np.zeros((len(test_cases), r_height, r_width))"
   ]
  },
  {
   "cell_type": "code",
   "execution_count": 9,
   "metadata": {
    "collapsed": true,
    "jupyter": {
     "outputs_hidden": true
    }
   },
   "outputs": [],
   "source": [
    "# Roychowdhury (2015a)\n",
    "segs_roychowdhury_a = np.zeros((len(test_cases), r_height, r_width))"
   ]
  },
  {
   "cell_type": "code",
   "execution_count": 10,
   "metadata": {
    "collapsed": true,
    "jupyter": {
     "outputs_hidden": true
    }
   },
   "outputs": [],
   "source": [
    "# Liskowsi (2016)\n",
    "segs_liskowski = np.zeros((len(test_cases), r_height, r_width))\n",
    "probs_liskowski = np.zeros((len(test_cases), r_height, r_width))"
   ]
  },
  {
   "cell_type": "code",
   "execution_count": 11,
   "metadata": {
    "collapsed": true,
    "jupyter": {
     "outputs_hidden": true
    }
   },
   "outputs": [],
   "source": [
    "# Fu (2016)\n",
    "segs_fu = np.zeros((len(test_cases), r_height, r_width))\n",
    "probs_fu = np.zeros((len(test_cases), r_height, r_width))"
   ]
  },
  {
   "cell_type": "code",
   "execution_count": 12,
   "metadata": {
    "collapsed": true,
    "jupyter": {
     "outputs_hidden": true
    }
   },
   "outputs": [],
   "source": [
    "# Orlando (2017)\n",
    "segs_orlando = np.zeros((len(test_cases), r_height, r_width))"
   ]
  },
  {
   "cell_type": "code",
   "execution_count": 13,
   "metadata": {
    "collapsed": true,
    "jupyter": {
     "outputs_hidden": true
    }
   },
   "outputs": [],
   "source": [
    "# This work (2018)\n",
    "segs = np.zeros((len(test_cases), r_height, r_width))\n",
    "probs = np.zeros((len(test_cases), r_height, r_width))"
   ]
  },
  {
   "cell_type": "markdown",
   "metadata": {},
   "source": [
    "In order for you to run the cell below, please download the resources from the links below and change the paths accordingly.\n",
    "\n",
    "* [Hoover (2000)](http://cecas.clemson.edu/~ahoover/stare/probing/index.html)\n",
    "* [Nguyen (2013)](https://people.eng.unimelb.edu.au/thivun/projects/retinal_segmentation/)\n",
    "* [Azzopardi (2015)](http://www.cs.rug.nl/~nick/results/)\n",
    "* [Roychowdhury (2015b)](https://sites.google.com/a/uw.edu/src/useful-links)\n",
    "* [Roychowdhury (2015a)](https://sites.google.com/a/uw.edu/src/useful-links)\n",
    "* [Liskowsi (2016)](http://www.cs.put.poznan.pl/kkrawiec/?n=Site.2015IEEETMI)\n",
    "* [Fu (2016)](http://hzfu.github.io/proj_deepvessel.htmlSH)\n",
    "* [Orlando (2017)](http://homes.esat.kuleuven.be/~mblaschk/projects/retina/)"
   ]
  },
  {
   "cell_type": "code",
   "execution_count": 14,
   "metadata": {
    "collapsed": false,
    "jupyter": {
     "outputs_hidden": false
    }
   },
   "outputs": [],
   "source": [
    "gts_path = '../resources/gts/STARE/'\n",
    "masks_path = '../resources/masks/STARE/'\n",
    "hoover_path = '../resources/hoover_2000/STARE/'\n",
    "nguyen_path = '../resources/nguyen_2013/STARE/'\n",
    "azzopardi_path = '../resources/azzopardi_2015/STARE/'\n",
    "roychowdhury_b_path = '../resources/roychowdhury_2015b/STARE/'\n",
    "roychowdhury_a_path = '../resources/roychowdhury_2015a/STARE/'\n",
    "liskowski_path = '../resources/liskowski_2016/STARE/'\n",
    "fu_path = '../resources/fu_2016/STARE/'\n",
    "orlando_path = '../resources/orlando_2017/STARE/'\n",
    "\n",
    "for i, case in enumerate(test_cases):\n",
    "    \n",
    "    # Ground-truth and masks\n",
    "    gt = load(gts_path + 'im%04d.ah.ppm.gz' %case, normalize = True)\n",
    "    gts[i] = gt\n",
    "    mask = load(masks_path + 'mask_%04d.png' %case)\n",
    "    masks[i] = mask\n",
    "    \n",
    "    # Hoover (2000)\n",
    "    seg_hoover = load(hoover_path + 'im%04d-vessels4.ppm.gz' %case)\n",
    "    segs_hoover[i] = seg_hoover\n",
    "    \n",
    "    # Nguyen (2013)\n",
    "    seg_nguyen = load(nguyen_path + 'stare_im%04d_multi_scales_unsupervised.png' %case, normalize = True)\n",
    "    segs_nguyen[i] = seg_nguyen\n",
    "    prob_nguyen = load(nguyen_path + 'stare_im%04d_multi_scales_unsupervised_soft.png' %case, normalize = True)\n",
    "    probs_nguyen[i] = prob_nguyen\n",
    "    \n",
    "    # Azzopardi (2015)\n",
    "    seg_azzopardi = load(azzopardi_path + 'im%04d.gif' %case, normalize = True)[:,:,0]\n",
    "    segs_azzopardi[i] = seg_azzopardi\n",
    "    \n",
    "    # Roychowdhury (2015b)\n",
    "    seg_roychowdhury_b = load(roychowdhury_b_path + 'im%04d.tif' %case, normalize = True)\n",
    "    segs_roychowdhury_b[i] = seg_roychowdhury_b\n",
    "    \n",
    "    # Roychowdhury (2015a)\n",
    "    seg_roychowdhury_a = load(roychowdhury_a_path + 'im%04d.gif' %case, normalize = True)\n",
    "    \n",
    "    if seg_roychowdhury_a.shape == (605,700,3):\n",
    "        seg_roychowdhury_a = seg_roychowdhury_a[:,:,0]\n",
    "    segs_roychowdhury_a[i] = seg_roychowdhury_a\n",
    "    \n",
    "    # Liskowski (2016)\n",
    "    prob_liskowski = 1 - load(liskowski_path + 'im%04d.png' %case, normalize = True)[27:632, 27:727]\n",
    "    probs_liskowski[i] = prob_liskowski\n",
    "    seg_liskowski = np.where(prob_liskowski < 0.5, 0, 1)\n",
    "    segs_liskowski[i] = seg_liskowski\n",
    "    \n",
    "    # Fu (2016)\n",
    "    seg_fu = load(fu_path + 'im%04d.ppm_seg_result.png' %case, normalize = True)\n",
    "    segs_fu[i] = seg_fu\n",
    "    prob_fu = load(fu_path + 'im%04d.ppm_CRF_result.png' %case, normalize = True)\n",
    "    probs_fu[i] = prob_fu\n",
    "    \n",
    "    # Orlando (2017)\n",
    "    seg_orlando = load(orlando_path + '%02d_test_fccrf.png' %(i+1), normalize = True)\n",
    "    segs_orlando[i] = seg_orlando\n",
    "    \n",
    "    # This work (2018)\n",
    "    seg = load('../resources/binary_segmentations/STARE/seg_%04d.png' %case, normalize = True)\n",
    "    prob = load_prob('../resources/probability_maps/STARE/prob_%04d.npy' %case)[1]\n",
    "    segs[i] = seg\n",
    "    probs[i] = prob"
   ]
  },
  {
   "cell_type": "markdown",
   "metadata": {},
   "source": [
    "### **Calculating metrics**"
   ]
  },
  {
   "cell_type": "code",
   "execution_count": 15,
   "metadata": {
    "collapsed": false,
    "jupyter": {
     "outputs_hidden": false
    }
   },
   "outputs": [],
   "source": [
    "def get_metrics (segs, gts, masks, probs = []):\n",
    "\n",
    "    if len(probs) != 0:\n",
    "\n",
    "        sen_list, spec_list, acc_list, auc_list = [], [], [], []\n",
    "\n",
    "        for i in range (len(gts)):\n",
    "            sen, spec, acc, auc = perform_metrics (segs[i], gts[i], masks[i], probs[i])\n",
    "            sen_list.append(sen)\n",
    "            spec_list.append(spec)\n",
    "            acc_list.append(acc)\n",
    "            auc_list.append(auc)\n",
    "            \n",
    "        return sen_list, spec_list, acc_list, auc_list\n",
    "            \n",
    "    else:\n",
    "    \n",
    "        sen_list, spec_list, acc_list = [], [], []\n",
    "\n",
    "        for i in range (len(gts)):\n",
    "            sen, spec, acc = perform_metrics (segs[i], gts[i], masks[i])\n",
    "            sen_list.append(sen)\n",
    "            spec_list.append(spec)\n",
    "            acc_list.append(acc)\n",
    "            \n",
    "        return sen_list, spec_list, acc_list\n"
   ]
  },
  {
   "cell_type": "code",
   "execution_count": 16,
   "metadata": {},
   "outputs": [],
   "source": [
    "sen_list_hoover, spec_list_hoover, acc_list_hoover = get_metrics (segs_hoover, gts, masks)"
   ]
  },
  {
   "cell_type": "code",
   "execution_count": 17,
   "metadata": {
    "collapsed": false,
    "jupyter": {
     "outputs_hidden": false
    }
   },
   "outputs": [],
   "source": [
    "sen_list_nguyen, spec_list_nguyen, acc_list_nguyen, auc_list_nguyen = get_metrics (segs_nguyen, gts, masks, probs_nguyen)"
   ]
  },
  {
   "cell_type": "code",
   "execution_count": 18,
   "metadata": {
    "collapsed": false,
    "jupyter": {
     "outputs_hidden": false
    }
   },
   "outputs": [],
   "source": [
    "sen_list_azzopardi, spec_list_azzopardi, acc_list_azzopardi = get_metrics (segs_azzopardi, gts, masks)"
   ]
  },
  {
   "cell_type": "code",
   "execution_count": 19,
   "metadata": {
    "collapsed": false,
    "jupyter": {
     "outputs_hidden": false
    }
   },
   "outputs": [],
   "source": [
    "for i in range(len(gts)): \n",
    "    segs_roychowdhury_b[i] = np.where(segs_roychowdhury_b[i] >= 0.5, 1, 0)"
   ]
  },
  {
   "cell_type": "code",
   "execution_count": 20,
   "metadata": {
    "collapsed": false,
    "jupyter": {
     "outputs_hidden": false
    }
   },
   "outputs": [],
   "source": [
    "sen_list_roychowdhury_b, spec_list_roychowdhury_b, acc_list_roychowdhury_b = get_metrics (segs_roychowdhury_b, gts, masks)"
   ]
  },
  {
   "cell_type": "code",
   "execution_count": 21,
   "metadata": {
    "collapsed": false,
    "jupyter": {
     "outputs_hidden": false
    }
   },
   "outputs": [],
   "source": [
    "for i in range(len(gts)): \n",
    "    segs_roychowdhury_a[i] = np.where(segs_roychowdhury_a[i] >= 0.5, 1, 0)"
   ]
  },
  {
   "cell_type": "code",
   "execution_count": 22,
   "metadata": {
    "collapsed": false,
    "jupyter": {
     "outputs_hidden": false
    }
   },
   "outputs": [],
   "source": [
    "sen_list_roychowdhury_a, spec_list_roychowdhury_a, acc_list_roychowdhury_a = get_metrics (segs_roychowdhury_a, gts, masks)"
   ]
  },
  {
   "cell_type": "code",
   "execution_count": 23,
   "metadata": {},
   "outputs": [],
   "source": [
    "sen_list_liskowski, spec_list_liskowski, acc_list_liskowski, auc_list_liskowski = get_metrics (segs_liskowski, gts, masks, probs_liskowski)"
   ]
  },
  {
   "cell_type": "code",
   "execution_count": 24,
   "metadata": {},
   "outputs": [],
   "source": [
    "sen_list_fu, spec_list_fu, acc_list_fu, auc_list_fu = get_metrics (segs_fu, gts, masks, probs_fu)"
   ]
  },
  {
   "cell_type": "code",
   "execution_count": 25,
   "metadata": {},
   "outputs": [],
   "source": [
    "sen_list_orlando, spec_list_orlando, acc_list_orlando = get_metrics (segs_orlando, gts, masks)"
   ]
  },
  {
   "cell_type": "code",
   "execution_count": 26,
   "metadata": {
    "collapsed": false,
    "jupyter": {
     "outputs_hidden": false
    }
   },
   "outputs": [],
   "source": [
    "sen_list, spec_list, acc_list, auc_list = get_metrics (segs, gts, masks, probs)"
   ]
  },
  {
   "cell_type": "markdown",
   "metadata": {},
   "source": [
    "### **Making Statistical Comparison**"
   ]
  },
  {
   "cell_type": "code",
   "execution_count": 27,
   "metadata": {
    "collapsed": false,
    "jupyter": {
     "outputs_hidden": false
    }
   },
   "outputs": [
    {
     "data": {
      "text/plain": [
       "8.8574576878635474e-05"
      ]
     },
     "execution_count": 27,
     "metadata": {},
     "output_type": "execute_result"
    }
   ],
   "source": [
    "# Hoover (2000)\n",
    "_, pvalue = wilcoxon(sen_list_hoover, sen_list)\n",
    "pvalue"
   ]
  },
  {
   "cell_type": "code",
   "execution_count": 28,
   "metadata": {
    "collapsed": false,
    "jupyter": {
     "outputs_hidden": false
    }
   },
   "outputs": [
    {
     "data": {
      "text/plain": [
       "8.8574576878635474e-05"
      ]
     },
     "execution_count": 28,
     "metadata": {},
     "output_type": "execute_result"
    }
   ],
   "source": [
    "_, pvalue = wilcoxon(spec_list_hoover, spec_list)\n",
    "pvalue"
   ]
  },
  {
   "cell_type": "code",
   "execution_count": 29,
   "metadata": {
    "collapsed": false,
    "jupyter": {
     "outputs_hidden": false
    }
   },
   "outputs": [
    {
     "data": {
      "text/plain": [
       "0.0019442974027892919"
      ]
     },
     "execution_count": 29,
     "metadata": {},
     "output_type": "execute_result"
    }
   ],
   "source": [
    "_, pvalue = wilcoxon(acc_list_hoover, acc_list)\n",
    "pvalue"
   ]
  },
  {
   "cell_type": "code",
   "execution_count": 30,
   "metadata": {
    "collapsed": false,
    "jupyter": {
     "outputs_hidden": false
    }
   },
   "outputs": [
    {
     "data": {
      "text/plain": [
       "8.8574576878635474e-05"
      ]
     },
     "execution_count": 30,
     "metadata": {},
     "output_type": "execute_result"
    }
   ],
   "source": [
    "# Nguyen (2013)\n",
    "_, pvalue = wilcoxon(acc_list_nguyen, acc_list)\n",
    "pvalue"
   ]
  },
  {
   "cell_type": "code",
   "execution_count": 31,
   "metadata": {
    "collapsed": false,
    "jupyter": {
     "outputs_hidden": false
    }
   },
   "outputs": [
    {
     "data": {
      "text/plain": [
       "0.0015072868413933233"
      ]
     },
     "execution_count": 31,
     "metadata": {},
     "output_type": "execute_result"
    }
   ],
   "source": [
    "# Azzopardi (2015)\n",
    "_, pvalue = wilcoxon(sen_list_azzopardi, sen_list)\n",
    "pvalue"
   ]
  },
  {
   "cell_type": "code",
   "execution_count": 32,
   "metadata": {
    "collapsed": false,
    "jupyter": {
     "outputs_hidden": false
    }
   },
   "outputs": [
    {
     "data": {
      "text/plain": [
       "0.00012042223841686183"
      ]
     },
     "execution_count": 32,
     "metadata": {},
     "output_type": "execute_result"
    }
   ],
   "source": [
    "_, pvalue = wilcoxon(spec_list_azzopardi, spec_list)\n",
    "pvalue"
   ]
  },
  {
   "cell_type": "code",
   "execution_count": 33,
   "metadata": {
    "collapsed": false,
    "jupyter": {
     "outputs_hidden": false
    }
   },
   "outputs": [
    {
     "data": {
      "text/plain": [
       "8.8574576878635474e-05"
      ]
     },
     "execution_count": 33,
     "metadata": {},
     "output_type": "execute_result"
    }
   ],
   "source": [
    "_, pvalue = wilcoxon(acc_list_azzopardi, acc_list)\n",
    "pvalue"
   ]
  },
  {
   "cell_type": "code",
   "execution_count": 34,
   "metadata": {
    "collapsed": false,
    "jupyter": {
     "outputs_hidden": false
    }
   },
   "outputs": [],
   "source": [
    "auc_list_azzopardi = [0.9285, 0.9416, 0.9513, 0.9295, 0.9503,\n",
    "                      0.9684, 0.9643, 0.9726, 0.9680, 0.9667,\n",
    "                      0.9746, 0.9802, 0.9586, 0.9606, 0.9598,\n",
    "                      0.9275, 0.9699, 0.9668, 0.9483, 0.9376]"
   ]
  },
  {
   "cell_type": "code",
   "execution_count": 35,
   "metadata": {
    "collapsed": false,
    "jupyter": {
     "outputs_hidden": false
    }
   },
   "outputs": [
    {
     "data": {
      "text/plain": [
       "8.8574576878635474e-05"
      ]
     },
     "execution_count": 35,
     "metadata": {},
     "output_type": "execute_result"
    }
   ],
   "source": [
    "_, pvalue = wilcoxon(auc_list_azzopardi, auc_list)\n",
    "pvalue"
   ]
  },
  {
   "cell_type": "code",
   "execution_count": 36,
   "metadata": {
    "collapsed": false,
    "jupyter": {
     "outputs_hidden": false
    }
   },
   "outputs": [
    {
     "data": {
      "text/plain": [
       "8.8574576878635474e-05"
      ]
     },
     "execution_count": 36,
     "metadata": {},
     "output_type": "execute_result"
    }
   ],
   "source": [
    "# Roychowdhury (2015b)\n",
    "_, pvalue = wilcoxon(sen_list_roychowdhury_b, sen_list)\n",
    "pvalue"
   ]
  },
  {
   "cell_type": "code",
   "execution_count": 37,
   "metadata": {
    "collapsed": false,
    "jupyter": {
     "outputs_hidden": false
    }
   },
   "outputs": [
    {
     "data": {
      "text/plain": [
       "0.00077959325753140308"
      ]
     },
     "execution_count": 37,
     "metadata": {},
     "output_type": "execute_result"
    }
   ],
   "source": [
    "_, pvalue = wilcoxon(spec_list_roychowdhury_b, spec_list)\n",
    "pvalue"
   ]
  },
  {
   "cell_type": "code",
   "execution_count": 38,
   "metadata": {
    "collapsed": false,
    "jupyter": {
     "outputs_hidden": false
    }
   },
   "outputs": [
    {
     "data": {
      "text/plain": [
       "8.8574576878635474e-05"
      ]
     },
     "execution_count": 38,
     "metadata": {},
     "output_type": "execute_result"
    }
   ],
   "source": [
    "_, pvalue = wilcoxon(acc_list_roychowdhury_b, acc_list)\n",
    "pvalue"
   ]
  },
  {
   "cell_type": "code",
   "execution_count": 39,
   "metadata": {
    "collapsed": false,
    "jupyter": {
     "outputs_hidden": false
    }
   },
   "outputs": [
    {
     "data": {
      "text/plain": [
       "0.0001401336206158955"
      ]
     },
     "execution_count": 39,
     "metadata": {},
     "output_type": "execute_result"
    }
   ],
   "source": [
    "# Roychowdhury (2015a)\n",
    "_, pvalue = wilcoxon(sen_list_roychowdhury_a, sen_list)\n",
    "pvalue"
   ]
  },
  {
   "cell_type": "code",
   "execution_count": 40,
   "metadata": {
    "collapsed": false,
    "jupyter": {
     "outputs_hidden": false
    }
   },
   "outputs": [
    {
     "data": {
      "text/plain": [
       "8.8574576878635474e-05"
      ]
     },
     "execution_count": 40,
     "metadata": {},
     "output_type": "execute_result"
    }
   ],
   "source": [
    "_, pvalue = wilcoxon(spec_list_roychowdhury_a, spec_list)\n",
    "pvalue"
   ]
  },
  {
   "cell_type": "code",
   "execution_count": 41,
   "metadata": {
    "collapsed": false,
    "jupyter": {
     "outputs_hidden": false
    }
   },
   "outputs": [
    {
     "data": {
      "text/plain": [
       "8.8574576878635474e-05"
      ]
     },
     "execution_count": 41,
     "metadata": {},
     "output_type": "execute_result"
    }
   ],
   "source": [
    "_, pvalue = wilcoxon(acc_list_roychowdhury_a, acc_list)\n",
    "pvalue"
   ]
  },
  {
   "cell_type": "code",
   "execution_count": 42,
   "metadata": {
    "collapsed": false,
    "jupyter": {
     "outputs_hidden": false
    }
   },
   "outputs": [
    {
     "data": {
      "text/plain": [
       "0.2958775226696384"
      ]
     },
     "execution_count": 42,
     "metadata": {},
     "output_type": "execute_result"
    }
   ],
   "source": [
    "# Liskowski (2016)\n",
    "_, pvalue = wilcoxon(sen_list_liskowski, sen_list)\n",
    "pvalue"
   ]
  },
  {
   "cell_type": "code",
   "execution_count": 43,
   "metadata": {
    "collapsed": false,
    "jupyter": {
     "outputs_hidden": false
    }
   },
   "outputs": [
    {
     "data": {
      "text/plain": [
       "0.5015913016269502"
      ]
     },
     "execution_count": 43,
     "metadata": {},
     "output_type": "execute_result"
    }
   ],
   "source": [
    "_, pvalue = wilcoxon(spec_list_liskowski, spec_list)\n",
    "pvalue"
   ]
  },
  {
   "cell_type": "code",
   "execution_count": 44,
   "metadata": {
    "collapsed": false,
    "jupyter": {
     "outputs_hidden": false
    }
   },
   "outputs": [
    {
     "data": {
      "text/plain": [
       "0.65415894441714495"
      ]
     },
     "execution_count": 44,
     "metadata": {},
     "output_type": "execute_result"
    }
   ],
   "source": [
    "_, pvalue = wilcoxon(acc_list_liskowski, acc_list)\n",
    "pvalue"
   ]
  },
  {
   "cell_type": "code",
   "execution_count": 45,
   "metadata": {
    "collapsed": false,
    "jupyter": {
     "outputs_hidden": false
    }
   },
   "outputs": [
    {
     "data": {
      "text/plain": [
       "0.022768743718921809"
      ]
     },
     "execution_count": 45,
     "metadata": {},
     "output_type": "execute_result"
    }
   ],
   "source": [
    "_, pvalue = wilcoxon(auc_list_liskowski, auc_list)\n",
    "pvalue"
   ]
  },
  {
   "cell_type": "code",
   "execution_count": 46,
   "metadata": {
    "collapsed": false,
    "jupyter": {
     "outputs_hidden": false
    }
   },
   "outputs": [
    {
     "data": {
      "text/plain": [
       "0.0013245375247995077"
      ]
     },
     "execution_count": 46,
     "metadata": {},
     "output_type": "execute_result"
    }
   ],
   "source": [
    "# Fu (2016)\n",
    "_, pvalue = wilcoxon(sen_list_fu, sen_list)\n",
    "pvalue"
   ]
  },
  {
   "cell_type": "code",
   "execution_count": 47,
   "metadata": {
    "collapsed": false,
    "jupyter": {
     "outputs_hidden": false
    }
   },
   "outputs": [
    {
     "data": {
      "text/plain": [
       "8.8574576878635474e-05"
      ]
     },
     "execution_count": 47,
     "metadata": {},
     "output_type": "execute_result"
    }
   ],
   "source": [
    "_, pvalue = wilcoxon(acc_list_fu, acc_list)\n",
    "pvalue"
   ]
  },
  {
   "cell_type": "code",
   "execution_count": 48,
   "metadata": {
    "collapsed": false,
    "jupyter": {
     "outputs_hidden": false
    }
   },
   "outputs": [
    {
     "data": {
      "text/plain": [
       "0.0013245375247995077"
      ]
     },
     "execution_count": 48,
     "metadata": {},
     "output_type": "execute_result"
    }
   ],
   "source": [
    "# Orlando (2017)\n",
    "_, pvalue = wilcoxon(sen_list_orlando, sen_list)\n",
    "pvalue"
   ]
  },
  {
   "cell_type": "code",
   "execution_count": 49,
   "metadata": {
    "collapsed": false,
    "jupyter": {
     "outputs_hidden": false
    }
   },
   "outputs": [
    {
     "data": {
      "text/plain": [
       "0.00029316154775863669"
      ]
     },
     "execution_count": 49,
     "metadata": {},
     "output_type": "execute_result"
    }
   ],
   "source": [
    "_, pvalue = wilcoxon(spec_list_orlando, spec_list)\n",
    "pvalue"
   ]
  },
  {
   "cell_type": "code",
   "execution_count": 50,
   "metadata": {
    "collapsed": false,
    "jupyter": {
     "outputs_hidden": false
    }
   },
   "outputs": [
    {
     "data": {
      "text/plain": [
       "8.8574576878635474e-05"
      ]
     },
     "execution_count": 50,
     "metadata": {},
     "output_type": "execute_result"
    }
   ],
   "source": [
    "_, pvalue = wilcoxon(acc_list_orlando, acc_list)\n",
    "pvalue"
   ]
  }
 ],
 "metadata": {
  "anaconda-cloud": {},
  "kernelspec": {
   "display_name": "Python 3 (ipykernel)",
   "language": "python",
   "name": "python3"
  },
  "language_info": {
   "codemirror_mode": {
    "name": "ipython",
    "version": 3
   },
   "file_extension": ".py",
   "mimetype": "text/x-python",
   "name": "python",
   "nbconvert_exporter": "python",
   "pygments_lexer": "ipython3",
   "version": "3.9.6"
  }
 },
 "nbformat": 4,
 "nbformat_minor": 4
}
