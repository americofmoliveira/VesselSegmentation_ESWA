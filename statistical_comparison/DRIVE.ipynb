{
 "cells": [
  {
   "cell_type": "markdown",
   "metadata": {},
   "source": [
    "### **Imports**"
   ]
  },
  {
   "cell_type": "code",
   "execution_count": 1,
   "metadata": {
    "collapsed": true,
    "jupyter": {
     "outputs_hidden": true
    }
   },
   "outputs": [],
   "source": [
    "from file_io import load\n",
    "from joblib import load as load_prob\n",
    "from scipy.stats import wilcoxon\n",
    "import numpy as np\n",
    "import pylab as pl\n",
    "pl.gray()"
   ]
  },
  {
   "cell_type": "markdown",
   "metadata": {},
   "source": [
    "### **Auxiliary Function**\n",
    "\n",
    "_ Inputs_\n",
    "\n",
    "* __pred -__ the  binary segmentation;\n",
    "* __gt -__ the ground truth; \n",
    "* __mask -__ the binary mask; \n",
    "* __ prob -__ the probability map (if available).\n",
    "\n",
    "_ Outputs _\n",
    "\n",
    "* __sen -__ Sensibility;\n",
    "* __spec -__ Specificity; \n",
    "* __acc -__ Accuracy; \n",
    "* __ auc -__ Area Under the ROC curve."
   ]
  },
  {
   "cell_type": "code",
   "execution_count": 2,
   "metadata": {},
   "outputs": [],
   "source": [
    "from sklearn.metrics import confusion_matrix, roc_auc_score\n",
    "\n",
    "def perform_metrics (pred, gt, mask, prob = []):\n",
    "    \n",
    "    # Suppressing background regions.\n",
    "    pred = pred[mask > 0]\n",
    "    gt = gt[mask > 0]\n",
    "\n",
    "    # Building confusion matrix.\n",
    "    # # Cij is the number of observations known to be in group i but predicted to be in group j.\n",
    "    c_matrix = confusion_matrix(gt, pred)\n",
    "    \n",
    "    # Calculating ratios.\n",
    "    tn = c_matrix[0,0]\n",
    "    tp = c_matrix[1,1]\n",
    "    fn = c_matrix[1,0]\n",
    "    fp = c_matrix[0,1]\n",
    "    \n",
    "    # Finding the metrics.\n",
    "    sen  = tp/(tp + fn)\n",
    "    spec = tn/(tn + fp)\n",
    "    acc  = (tp + tn)/(tp + tn + fp + fn)\n",
    "    \n",
    "    if len (prob) != 0:\n",
    "        \n",
    "        prob = prob[mask > 0]\n",
    "        auc  = roc_auc_score (gt, prob)\n",
    "        return sen, spec, acc, auc\n",
    "    \n",
    "    return sen, spec, acc"
   ]
  },
  {
   "cell_type": "markdown",
   "metadata": {},
   "source": [
    "### **Loading**"
   ]
  },
  {
   "cell_type": "code",
   "execution_count": 3,
   "metadata": {
    "collapsed": false,
    "jupyter": {
     "outputs_hidden": false
    }
   },
   "outputs": [],
   "source": [
    "test_cases = range(1,21)\n",
    "r_width, r_height = 565, 584"
   ]
  },
  {
   "cell_type": "code",
   "execution_count": 4,
   "metadata": {
    "collapsed": false,
    "jupyter": {
     "outputs_hidden": false
    }
   },
   "outputs": [],
   "source": [
    "gts = np.zeros((len(test_cases), r_height, r_width))\n",
    "masks = np.zeros ((len(test_cases), r_height, r_width))"
   ]
  },
  {
   "cell_type": "code",
   "execution_count": 5,
   "metadata": {
    "collapsed": false,
    "jupyter": {
     "outputs_hidden": false
    }
   },
   "outputs": [],
   "source": [
    "# Nguyen (2013)\n",
    "segs_nguyen = np.zeros((len(test_cases), r_height, r_width))\n",
    "probs_nguyen = np.zeros((len(test_cases), r_height, r_width))"
   ]
  },
  {
   "cell_type": "code",
   "execution_count": 6,
   "metadata": {},
   "outputs": [],
   "source": [
    "# Azzopardi (2015)\n",
    "segs_azzopardi = np.zeros((len(test_cases), r_height, r_width))"
   ]
  },
  {
   "cell_type": "code",
   "execution_count": 7,
   "metadata": {},
   "outputs": [],
   "source": [
    "# Roychowdhury (2015b)\n",
    "segs_roychowdhury_b = np.zeros((len(test_cases), r_height, r_width))"
   ]
  },
  {
   "cell_type": "code",
   "execution_count": 8,
   "metadata": {},
   "outputs": [],
   "source": [
    "# Niemeijer (2004) \n",
    "segs_niemeijer = np.zeros((len(test_cases), r_height, r_width))\n",
    "probs_niemeijer = np.zeros((len(test_cases), r_height, r_width))"
   ]
  },
  {
   "cell_type": "code",
   "execution_count": 9,
   "metadata": {},
   "outputs": [],
   "source": [
    "# Staal (2004) \n",
    "segs_staal = np.zeros((len(test_cases), r_height, r_width))\n",
    "probs_staal = np.zeros((len(test_cases), r_height, r_width))"
   ]
  },
  {
   "cell_type": "code",
   "execution_count": 10,
   "metadata": {},
   "outputs": [],
   "source": [
    "# Marin (2011)\n",
    "segs_marin = np.zeros((len(test_cases), r_height, r_width))"
   ]
  },
  {
   "cell_type": "code",
   "execution_count": 11,
   "metadata": {},
   "outputs": [],
   "source": [
    "# Roychowdhury (2015a)\n",
    "segs_roychowdhury_a = np.zeros((len(test_cases), r_height, r_width))\n",
    "probs_roychowdhury_a = np.zeros((len(test_cases), r_height, r_width))"
   ]
  },
  {
   "cell_type": "code",
   "execution_count": 12,
   "metadata": {},
   "outputs": [],
   "source": [
    "# Liskowsi (2016)\n",
    "segs_liskowski = np.zeros((len(test_cases), r_height, r_width))\n",
    "probs_liskowski = np.zeros((len(test_cases), r_height, r_width))"
   ]
  },
  {
   "cell_type": "code",
   "execution_count": 13,
   "metadata": {},
   "outputs": [],
   "source": [
    "# Fu (2016)\n",
    "segs_fu = np.zeros((len(test_cases), r_height, r_width))\n",
    "probs_fu = np.zeros((len(test_cases), r_height, r_width))"
   ]
  },
  {
   "cell_type": "code",
   "execution_count": 14,
   "metadata": {},
   "outputs": [],
   "source": [
    "# Orlando (2017)\n",
    "segs_orlando = np.zeros((len(test_cases), r_height, r_width))"
   ]
  },
  {
   "cell_type": "code",
   "execution_count": 15,
   "metadata": {},
   "outputs": [],
   "source": [
    "# This work (2018)\n",
    "segs = np.zeros((len(test_cases), r_height, r_width))\n",
    "probs = np.zeros((len(test_cases), r_height, r_width))"
   ]
  },
  {
   "cell_type": "markdown",
   "metadata": {},
   "source": [
    "In order for you to run the cell below, please download the resources from the links below and change the paths accordingly.\n",
    "\n",
    "* [Nguyen (2013)](https://people.eng.unimelb.edu.au/thivun/projects/retinal_segmentation/)\n",
    "* [Azzopardi (2015)](http://www.cs.rug.nl/~nick/results/)\n",
    "* [Roychowdhury (2015b)](https://sites.google.com/a/uw.edu/src/useful-links)\n",
    "* [Niemeijer (2004)](http://www.isi.uu.nl/Research/Databases/DRIVE/browser.php)\n",
    "* [Staal (2004)](http://www.isi.uu.nl/Research/Databases/DRIVE/browser.php)\n",
    "* [Marin (2011)](http://www.uhu.es/retinopathy/eng/bd.php)\n",
    "* [Roychowdhury (2015a)](https://sites.google.com/a/uw.edu/src/useful-links)\n",
    "* [Liskowsi (2016)](http://www.cs.put.poznan.pl/kkrawiec/?n=Site.2015IEEETMI)\n",
    "* [Fu (2016)](http://hzfu.github.io/proj_deepvessel.htmlSH)\n",
    "* [Orlando (2017)](http://homes.esat.kuleuven.be/~mblaschk/projects/retina/)"
   ]
  },
  {
   "cell_type": "code",
   "execution_count": 16,
   "metadata": {
    "collapsed": false,
    "jupyter": {
     "outputs_hidden": false
    }
   },
   "outputs": [],
   "source": [
    "#Change these paths\n",
    "gts_path = '../resources/gts/DRIVE/'\n",
    "masks_path = '../resources/masks/DRIVE/'\n",
    "nguyen_path = '../resources/nguyen_2013/DRIVE/'\n",
    "azzopardi_path = '../resources/azzopardi_2015/DRIVE/'\n",
    "roychowdhury_b_path = '../resources/roychowdhury_2015b/DRIVE/'\n",
    "niemeijer_path = '../resources/niemeijer_2004/DRIVE/'\n",
    "staal_path = '../resources/staal_2004/DRIVE/'\n",
    "marin_path = '../resources/marin_2011/DRIVE/'\n",
    "roychowdhury_a_path = '../resources/roychowdhury_2015a/DRIVE/'\n",
    "liskowski_path = '../resources/liskowski_2016/DRIVE/'\n",
    "fu_path = '../resources/fu_2016/DRIVE/'\n",
    "orlando_path = '../resources/orlando_2017/DRIVE/'\n",
    "\n",
    "for i, case in enumerate(test_cases):\n",
    "    \n",
    "    # Ground-truth and masks\n",
    "    gt = load(gts_path + '%02d_manual1.gif' %case, normalize = True)\n",
    "    gts[i] = gt\n",
    "    mask = load(masks_path + '%02d_test_mask.gif' %case)\n",
    "    masks[i] = mask\n",
    "    \n",
    "    # Nguyen (2013)\n",
    "    seg_nguyen = load(nguyen_path + 'drive_%02d_test_multi_scales_unsupervised.png' %case, normalize = True)\n",
    "    segs_nguyen[i] = seg_nguyen\n",
    "    prob_nguyen = load(nguyen_path + 'drive_%02d_test_multi_scales_unsupervised_soft.png' %case, normalize = True)\n",
    "    probs_nguyen[i] = prob_nguyen\n",
    "    \n",
    "    # Azzopardi (2015)\n",
    "    seg_azzopardi = load(azzopardi_path + '%02d_test.gif' %case, normalize = True)[:,:,0]\n",
    "    segs_azzopardi[i] = seg_azzopardi\n",
    "    \n",
    "    # Roychowdhury (2015b)\n",
    "    seg_roychowdhury_b = load(roychowdhury_b_path + '%02d_test.tif' %case, normalize = True)\n",
    "    segs_roychowdhury_b[i] = seg_roychowdhury_b\n",
    "    \n",
    "    # Niemeijer (2004)\n",
    "    seg_niemeijer = load(niemeijer_path + '%02d_PC_hard.gif' %case, normalize = True)\n",
    "    segs_niemeijer[i] = seg_niemeijer\n",
    "    prob_niemeijer = load(niemeijer_path + '%02d_PC_soft.gif' %case, normalize = True)\n",
    "    probs_niemeijer[i] = prob_niemeijer\n",
    "    \n",
    "    # Staal (2004)\n",
    "    seg_staal = load(staal_path + '%02d_Staal_hard.gif' %case, normalize = True)[:,:,0]\n",
    "    segs_staal[i] = seg_staal\n",
    "    prob_staal = load(staal_path + '%02d_Staal_soft.gif' %case, normalize = True)\n",
    "    probs_staal[i] = prob_staal\n",
    "    \n",
    "    # Marin (2011)\n",
    "    seg_marin = load(marin_path + 'Im%02d.tif' %case, normalize = True)\n",
    "    segs_marin[i] = seg_marin\n",
    "    \n",
    "    # Roychowdhury (2015a)\n",
    "    seg_roychowdhury_a = load(roychowdhury_a_path + '%02d_test.tif' %case, normalize = True)\n",
    "    segs_roychowdhury_a[i] = seg_roychowdhury_a\n",
    "    \n",
    "    # Liskowski (2016)\n",
    "    prob_liskowski = 1 - load(liskowski_path + '%02d_test.png' %case, normalize = True)[27:611, 27:592]\n",
    "    probs_liskowski[i] = prob_liskowski\n",
    "    seg_liskowski = np.where(prob_liskowski < 0.5, 0, 1)\n",
    "    segs_liskowski[i] = seg_liskowski\n",
    "    \n",
    "    # Fu (2016)\n",
    "    seg_fu = load(fu_path + '%02d_test_seg_result.png' %case, normalize = True)\n",
    "    segs_fu[i] = seg_fu\n",
    "    prob_fu = load(fu_path + '%02d_test_CRF_result.png' %case, normalize = True)\n",
    "    probs_fu[i] = prob_fu\n",
    "    \n",
    "    # Orlando (2017)\n",
    "    seg_orlando = load(orlando_path + '%02d_test_fccrf.png' %case, normalize = True)\n",
    "    segs_orlando[i] = seg_orlando\n",
    "    \n",
    "    # This work (2018)\n",
    "    seg = load('../resources/binary_segmentations/DRIVE/seg_%04d.png' %case, normalize = True)\n",
    "    prob = load_prob('../resources/probability_maps/DRIVE/prob_%04d.npy' %case)[1] \n",
    "    segs[i] = seg\n",
    "    probs[i] = prob"
   ]
  },
  {
   "cell_type": "markdown",
   "metadata": {},
   "source": [
    "### **Calculating metrics**"
   ]
  },
  {
   "cell_type": "code",
   "execution_count": 17,
   "metadata": {
    "collapsed": false,
    "jupyter": {
     "outputs_hidden": false
    }
   },
   "outputs": [],
   "source": [
    "def get_metrics (segs, gts, masks, probs = []):\n",
    "\n",
    "    if len(probs) != 0:\n",
    "\n",
    "        sen_list, spec_list, acc_list, auc_list = [], [], [], []\n",
    "\n",
    "        for i in range (len(gts)):\n",
    "            sen, spec, acc, auc = perform_metrics (segs[i], gts[i], masks[i], probs[i])\n",
    "            sen_list.append(sen)\n",
    "            spec_list.append(spec)\n",
    "            acc_list.append(acc)\n",
    "            auc_list.append(auc)\n",
    "            \n",
    "        return sen_list, spec_list, acc_list, auc_list\n",
    "            \n",
    "    else:\n",
    "    \n",
    "        sen_list, spec_list, acc_list = [], [], []\n",
    "\n",
    "        for i in range (len(gts)):\n",
    "            sen, spec, acc = perform_metrics (segs[i], gts[i], masks[i])\n",
    "            sen_list.append(sen)\n",
    "            spec_list.append(spec)\n",
    "            acc_list.append(acc)\n",
    "            \n",
    "        return sen_list, spec_list, acc_list\n"
   ]
  },
  {
   "cell_type": "code",
   "execution_count": 18,
   "metadata": {
    "collapsed": false,
    "jupyter": {
     "outputs_hidden": false
    }
   },
   "outputs": [],
   "source": [
    "sen_list_nguyen, spec_list_nguyen, acc_list_nguyen, auc_list_nguyen = get_metrics (segs_nguyen, gts, masks, probs_nguyen)"
   ]
  },
  {
   "cell_type": "code",
   "execution_count": 19,
   "metadata": {
    "collapsed": false,
    "jupyter": {
     "outputs_hidden": false
    }
   },
   "outputs": [],
   "source": [
    "sen_list_azzopardi, spec_list_azzopardi, acc_list_azzopardi = get_metrics (segs_azzopardi, gts, masks)"
   ]
  },
  {
   "cell_type": "code",
   "execution_count": 20,
   "metadata": {
    "collapsed": false,
    "jupyter": {
     "outputs_hidden": false
    }
   },
   "outputs": [],
   "source": [
    "segs_roychowdhury_b[2] = np.where(segs_roychowdhury_b[2] > 0.5, 1, 0)\n",
    "sen_list_roychowdhury_b, spec_list_roychowdhury_b, acc_list_roychowdhury_b = get_metrics (segs_roychowdhury_b, gts, masks)"
   ]
  },
  {
   "cell_type": "code",
   "execution_count": 21,
   "metadata": {
    "collapsed": false,
    "jupyter": {
     "outputs_hidden": false
    }
   },
   "outputs": [],
   "source": [
    "for i in range(len(gts)): \n",
    "    segs_niemeijer[i] = np.where(segs_niemeijer[i] >= 0.5, 1, 0)"
   ]
  },
  {
   "cell_type": "code",
   "execution_count": 22,
   "metadata": {},
   "outputs": [],
   "source": [
    "sen_list_niemeijer, spec_list_niemeijer, acc_list_niemeijer, auc_list_niemeijer = get_metrics (segs_niemeijer, gts, masks, probs_niemeijer)"
   ]
  },
  {
   "cell_type": "code",
   "execution_count": 23,
   "metadata": {},
   "outputs": [],
   "source": [
    "for i in range(len(gts)): \n",
    "    segs_staal[i] = np.where(segs_staal[i] >= 0.5, 1, 0)"
   ]
  },
  {
   "cell_type": "code",
   "execution_count": 24,
   "metadata": {},
   "outputs": [],
   "source": [
    "sen_list_staal, spec_list_staal, acc_list_staal, auc_list_staal = get_metrics (segs_staal, gts, masks, probs_staal)"
   ]
  },
  {
   "cell_type": "code",
   "execution_count": 25,
   "metadata": {
    "collapsed": false,
    "jupyter": {
     "outputs_hidden": false
    }
   },
   "outputs": [],
   "source": [
    "sen_list_marin, spec_list_marin, acc_list_marin = get_metrics (segs_marin, gts, masks)"
   ]
  },
  {
   "cell_type": "code",
   "execution_count": 26,
   "metadata": {
    "collapsed": false,
    "jupyter": {
     "outputs_hidden": false
    }
   },
   "outputs": [],
   "source": [
    "for i in range(len(gts)): \n",
    "    segs_roychowdhury_a[i] = np.where(segs_roychowdhury_a[i] >= 0.5, 1, 0)"
   ]
  },
  {
   "cell_type": "code",
   "execution_count": 27,
   "metadata": {
    "collapsed": false,
    "jupyter": {
     "outputs_hidden": false
    }
   },
   "outputs": [],
   "source": [
    "sen_list_roychowdhury_a, spec_list_roychowdhury_a, acc_list_roychowdhury_a = get_metrics (segs_roychowdhury_a, gts, masks)"
   ]
  },
  {
   "cell_type": "code",
   "execution_count": 28,
   "metadata": {},
   "outputs": [],
   "source": [
    "sen_list_liskowski, spec_list_liskowski, acc_list_liskowski, auc_list_liskowski = get_metrics (segs_liskowski, gts, masks, probs_liskowski)"
   ]
  },
  {
   "cell_type": "code",
   "execution_count": 29,
   "metadata": {},
   "outputs": [],
   "source": [
    "sen_list_fu, spec_list_fu, acc_list_fu, auc_list_fu = get_metrics (segs_fu, gts, masks, probs_fu)"
   ]
  },
  {
   "cell_type": "code",
   "execution_count": 30,
   "metadata": {},
   "outputs": [],
   "source": [
    "sen_list_orlando, spec_list_orlando, acc_list_orlando = get_metrics (segs_orlando, gts, masks)"
   ]
  },
  {
   "cell_type": "code",
   "execution_count": 31,
   "metadata": {
    "collapsed": false,
    "jupyter": {
     "outputs_hidden": false
    }
   },
   "outputs": [],
   "source": [
    "sen_list, spec_list, acc_list, auc_list = get_metrics (segs, gts, masks, probs)"
   ]
  },
  {
   "cell_type": "markdown",
   "metadata": {},
   "source": [
    "### **Making Statistical Comparison**"
   ]
  },
  {
   "cell_type": "code",
   "execution_count": 32,
   "metadata": {
    "collapsed": false,
    "jupyter": {
     "outputs_hidden": false
    }
   },
   "outputs": [
    {
     "data": {
      "text/plain": [
       "8.8574576878635474e-05"
      ]
     },
     "execution_count": 32,
     "metadata": {},
     "output_type": "execute_result"
    }
   ],
   "source": [
    "# Nguyen (2013)\n",
    "_, pvalue = wilcoxon(acc_list_nguyen, acc_list)\n",
    "pvalue"
   ]
  },
  {
   "cell_type": "code",
   "execution_count": 33,
   "metadata": {
    "collapsed": false,
    "jupyter": {
     "outputs_hidden": false
    }
   },
   "outputs": [
    {
     "data": {
      "text/plain": [
       "0.0071891683913754955"
      ]
     },
     "execution_count": 33,
     "metadata": {},
     "output_type": "execute_result"
    }
   ],
   "source": [
    "# Azzopardi (2015)\n",
    "_, pvalue = wilcoxon(sen_list_azzopardi, sen_list)\n",
    "pvalue"
   ]
  },
  {
   "cell_type": "code",
   "execution_count": 34,
   "metadata": {
    "collapsed": false,
    "jupyter": {
     "outputs_hidden": false
    }
   },
   "outputs": [
    {
     "data": {
      "text/plain": [
       "0.0015072868413933233"
      ]
     },
     "execution_count": 34,
     "metadata": {},
     "output_type": "execute_result"
    }
   ],
   "source": [
    "_, pvalue = wilcoxon(spec_list_azzopardi, spec_list)\n",
    "pvalue"
   ]
  },
  {
   "cell_type": "code",
   "execution_count": 35,
   "metadata": {
    "collapsed": false,
    "jupyter": {
     "outputs_hidden": false
    }
   },
   "outputs": [
    {
     "data": {
      "text/plain": [
       "8.8574576878635474e-05"
      ]
     },
     "execution_count": 35,
     "metadata": {},
     "output_type": "execute_result"
    }
   ],
   "source": [
    "_, pvalue = wilcoxon(acc_list_azzopardi, acc_list)\n",
    "pvalue"
   ]
  },
  {
   "cell_type": "code",
   "execution_count": 36,
   "metadata": {
    "collapsed": false,
    "jupyter": {
     "outputs_hidden": false
    }
   },
   "outputs": [],
   "source": [
    "auc_list_azzopardi = [0.9736, 0.9714, 0.9511, 0.9567, 0.9537, \n",
    "                      0.9520, 0.9519, 0.9466, 0.9576, 0.9601, \n",
    "                      0.9515, 0.9629, 0.9563, 0.9682, 0.9651,\n",
    "                      0.9712, 0.9574, 0.9685, 0.9774, 0.9742]"
   ]
  },
  {
   "cell_type": "code",
   "execution_count": 37,
   "metadata": {
    "collapsed": false,
    "jupyter": {
     "outputs_hidden": false
    }
   },
   "outputs": [
    {
     "data": {
      "text/plain": [
       "8.8574576878635474e-05"
      ]
     },
     "execution_count": 37,
     "metadata": {},
     "output_type": "execute_result"
    }
   ],
   "source": [
    "_, pvalue = wilcoxon(auc_list_azzopardi, auc_list)\n",
    "pvalue"
   ]
  },
  {
   "cell_type": "code",
   "execution_count": 38,
   "metadata": {
    "collapsed": false,
    "jupyter": {
     "outputs_hidden": false
    }
   },
   "outputs": [
    {
     "data": {
      "text/plain": [
       "8.8574576878635474e-05"
      ]
     },
     "execution_count": 38,
     "metadata": {},
     "output_type": "execute_result"
    }
   ],
   "source": [
    "# Roychowdhury (2015b)\n",
    "_, pvalue = wilcoxon(sen_list_roychowdhury_b, sen_list)\n",
    "pvalue"
   ]
  },
  {
   "cell_type": "code",
   "execution_count": 39,
   "metadata": {
    "collapsed": false,
    "jupyter": {
     "outputs_hidden": false
    }
   },
   "outputs": [
    {
     "data": {
      "text/plain": [
       "0.00021907963048002185"
      ]
     },
     "execution_count": 39,
     "metadata": {},
     "output_type": "execute_result"
    }
   ],
   "source": [
    "_, pvalue = wilcoxon(spec_list_roychowdhury_b, spec_list)\n",
    "pvalue"
   ]
  },
  {
   "cell_type": "code",
   "execution_count": 40,
   "metadata": {
    "collapsed": false,
    "jupyter": {
     "outputs_hidden": false
    }
   },
   "outputs": [
    {
     "data": {
      "text/plain": [
       "8.8574576878635474e-05"
      ]
     },
     "execution_count": 40,
     "metadata": {},
     "output_type": "execute_result"
    }
   ],
   "source": [
    "_, pvalue = wilcoxon(acc_list_roychowdhury_b, acc_list)\n",
    "pvalue"
   ]
  },
  {
   "cell_type": "code",
   "execution_count": 41,
   "metadata": {
    "collapsed": false,
    "jupyter": {
     "outputs_hidden": false
    }
   },
   "outputs": [
    {
     "data": {
      "text/plain": [
       "8.8574576878635474e-05"
      ]
     },
     "execution_count": 41,
     "metadata": {},
     "output_type": "execute_result"
    }
   ],
   "source": [
    "# Niemeijer (2004)\n",
    "_, pvalue = wilcoxon(acc_list_niemeijer, acc_list)\n",
    "pvalue"
   ]
  },
  {
   "cell_type": "code",
   "execution_count": 42,
   "metadata": {
    "collapsed": false,
    "jupyter": {
     "outputs_hidden": false
    }
   },
   "outputs": [
    {
     "data": {
      "text/plain": [
       "8.8574576878635474e-05"
      ]
     },
     "execution_count": 42,
     "metadata": {},
     "output_type": "execute_result"
    }
   ],
   "source": [
    "_, pvalue = wilcoxon(auc_list_niemeijer, auc_list)\n",
    "pvalue"
   ]
  },
  {
   "cell_type": "code",
   "execution_count": 43,
   "metadata": {
    "collapsed": false,
    "jupyter": {
     "outputs_hidden": false
    }
   },
   "outputs": [
    {
     "data": {
      "text/plain": [
       "8.8574576878635474e-05"
      ]
     },
     "execution_count": 43,
     "metadata": {},
     "output_type": "execute_result"
    }
   ],
   "source": [
    "# Staal (2004)\n",
    "_, pvalue = wilcoxon(acc_list_staal, acc_list)\n",
    "pvalue"
   ]
  },
  {
   "cell_type": "code",
   "execution_count": 44,
   "metadata": {
    "collapsed": false,
    "jupyter": {
     "outputs_hidden": false
    }
   },
   "outputs": [
    {
     "data": {
      "text/plain": [
       "8.8574576878635474e-05"
      ]
     },
     "execution_count": 44,
     "metadata": {},
     "output_type": "execute_result"
    }
   ],
   "source": [
    "_, pvalue = wilcoxon(auc_list_staal, auc_list)\n",
    "pvalue"
   ]
  },
  {
   "cell_type": "code",
   "execution_count": 45,
   "metadata": {
    "collapsed": false,
    "jupyter": {
     "outputs_hidden": false
    }
   },
   "outputs": [
    {
     "data": {
      "text/plain": [
       "8.8574576878635474e-05"
      ]
     },
     "execution_count": 45,
     "metadata": {},
     "output_type": "execute_result"
    }
   ],
   "source": [
    "# Marin (2011)\n",
    "_, pvalue = wilcoxon(sen_list_marin, sen_list)\n",
    "pvalue"
   ]
  },
  {
   "cell_type": "code",
   "execution_count": 46,
   "metadata": {
    "collapsed": false,
    "jupyter": {
     "outputs_hidden": false
    }
   },
   "outputs": [
    {
     "data": {
      "text/plain": [
       "0.10842674449200547"
      ]
     },
     "execution_count": 46,
     "metadata": {},
     "output_type": "execute_result"
    }
   ],
   "source": [
    "_, pvalue = wilcoxon(spec_list_marin, spec_list)\n",
    "pvalue"
   ]
  },
  {
   "cell_type": "code",
   "execution_count": 47,
   "metadata": {
    "collapsed": false,
    "jupyter": {
     "outputs_hidden": false
    }
   },
   "outputs": [
    {
     "data": {
      "text/plain": [
       "8.8574576878635474e-05"
      ]
     },
     "execution_count": 47,
     "metadata": {},
     "output_type": "execute_result"
    }
   ],
   "source": [
    "_, pvalue = wilcoxon(acc_list_marin, acc_list)\n",
    "pvalue"
   ]
  },
  {
   "cell_type": "code",
   "execution_count": 48,
   "metadata": {
    "collapsed": false,
    "jupyter": {
     "outputs_hidden": false
    }
   },
   "outputs": [
    {
     "data": {
      "text/plain": [
       "8.8574576878635474e-05"
      ]
     },
     "execution_count": 48,
     "metadata": {},
     "output_type": "execute_result"
    }
   ],
   "source": [
    "# Roychowdhury (2015a)\n",
    "_, pvalue = wilcoxon(sen_list_roychowdhury_a, sen_list)\n",
    "pvalue"
   ]
  },
  {
   "cell_type": "code",
   "execution_count": 49,
   "metadata": {
    "collapsed": false,
    "jupyter": {
     "outputs_hidden": false
    }
   },
   "outputs": [
    {
     "data": {
      "text/plain": [
       "8.8574576878635474e-05"
      ]
     },
     "execution_count": 49,
     "metadata": {},
     "output_type": "execute_result"
    }
   ],
   "source": [
    "_, pvalue = wilcoxon(spec_list_roychowdhury_a, spec_list)\n",
    "pvalue"
   ]
  },
  {
   "cell_type": "code",
   "execution_count": 50,
   "metadata": {
    "collapsed": false,
    "jupyter": {
     "outputs_hidden": false
    }
   },
   "outputs": [
    {
     "data": {
      "text/plain": [
       "8.8574576878635474e-05"
      ]
     },
     "execution_count": 50,
     "metadata": {},
     "output_type": "execute_result"
    }
   ],
   "source": [
    "_, pvalue = wilcoxon(acc_list_roychowdhury_a, acc_list)\n",
    "pvalue"
   ]
  },
  {
   "cell_type": "code",
   "execution_count": 51,
   "metadata": {
    "collapsed": false,
    "jupyter": {
     "outputs_hidden": false
    }
   },
   "outputs": [
    {
     "data": {
      "text/plain": [
       "8.8574576878635474e-05"
      ]
     },
     "execution_count": 51,
     "metadata": {},
     "output_type": "execute_result"
    }
   ],
   "source": [
    "# Liskowski (2016)\n",
    "_, pvalue = wilcoxon(sen_list_liskowski, sen_list)\n",
    "pvalue"
   ]
  },
  {
   "cell_type": "code",
   "execution_count": 52,
   "metadata": {
    "collapsed": false,
    "jupyter": {
     "outputs_hidden": false
    }
   },
   "outputs": [
    {
     "data": {
      "text/plain": [
       "0.60121270573980956"
      ]
     },
     "execution_count": 52,
     "metadata": {},
     "output_type": "execute_result"
    }
   ],
   "source": [
    "_, pvalue = wilcoxon(spec_list_liskowski, spec_list)\n",
    "pvalue"
   ]
  },
  {
   "cell_type": "code",
   "execution_count": 53,
   "metadata": {
    "collapsed": false,
    "jupyter": {
     "outputs_hidden": false
    }
   },
   "outputs": [
    {
     "data": {
      "text/plain": [
       "8.8574576878635474e-05"
      ]
     },
     "execution_count": 53,
     "metadata": {},
     "output_type": "execute_result"
    }
   ],
   "source": [
    "_, pvalue = wilcoxon(acc_list_liskowski, acc_list)\n",
    "pvalue"
   ]
  },
  {
   "cell_type": "code",
   "execution_count": 54,
   "metadata": {
    "collapsed": false,
    "jupyter": {
     "outputs_hidden": false
    }
   },
   "outputs": [
    {
     "data": {
      "text/plain": [
       "8.8574576878635474e-05"
      ]
     },
     "execution_count": 54,
     "metadata": {},
     "output_type": "execute_result"
    }
   ],
   "source": [
    "_, pvalue = wilcoxon(auc_list_liskowski, auc_list)\n",
    "pvalue"
   ]
  },
  {
   "cell_type": "code",
   "execution_count": 55,
   "metadata": {
    "collapsed": false,
    "jupyter": {
     "outputs_hidden": false
    }
   },
   "outputs": [
    {
     "data": {
      "text/plain": [
       "0.00016285576606790404"
      ]
     },
     "execution_count": 55,
     "metadata": {},
     "output_type": "execute_result"
    }
   ],
   "source": [
    "# Fu (2016)\n",
    "_, pvalue = wilcoxon(sen_list_fu, sen_list)\n",
    "pvalue"
   ]
  },
  {
   "cell_type": "code",
   "execution_count": 56,
   "metadata": {
    "collapsed": false,
    "jupyter": {
     "outputs_hidden": false
    }
   },
   "outputs": [
    {
     "data": {
      "text/plain": [
       "8.8574576878635474e-05"
      ]
     },
     "execution_count": 56,
     "metadata": {},
     "output_type": "execute_result"
    }
   ],
   "source": [
    "_, pvalue = wilcoxon(acc_list_fu, acc_list)\n",
    "pvalue"
   ]
  },
  {
   "cell_type": "code",
   "execution_count": 57,
   "metadata": {
    "collapsed": false,
    "jupyter": {
     "outputs_hidden": false
    }
   },
   "outputs": [
    {
     "data": {
      "text/plain": [
       "0.079321679696761765"
      ]
     },
     "execution_count": 57,
     "metadata": {},
     "output_type": "execute_result"
    }
   ],
   "source": [
    "# Orlando (2017)\n",
    "_, pvalue = wilcoxon(sen_list_orlando, sen_list)\n",
    "pvalue"
   ]
  },
  {
   "cell_type": "code",
   "execution_count": 58,
   "metadata": {
    "collapsed": false,
    "jupyter": {
     "outputs_hidden": false
    }
   },
   "outputs": [
    {
     "data": {
      "text/plain": [
       "0.0001401336206158955"
      ]
     },
     "execution_count": 58,
     "metadata": {},
     "output_type": "execute_result"
    }
   ],
   "source": [
    "_, pvalue = wilcoxon(spec_list_orlando, spec_list)\n",
    "pvalue"
   ]
  },
  {
   "cell_type": "code",
   "execution_count": 59,
   "metadata": {
    "collapsed": false,
    "jupyter": {
     "outputs_hidden": false
    }
   },
   "outputs": [
    {
     "data": {
      "text/plain": [
       "8.8574576878635474e-05"
      ]
     },
     "execution_count": 59,
     "metadata": {},
     "output_type": "execute_result"
    }
   ],
   "source": [
    "_, pvalue = wilcoxon(acc_list_orlando, acc_list)\n",
    "pvalue"
   ]
  }
 ],
 "metadata": {
  "anaconda-cloud": {},
  "kernelspec": {
   "display_name": "Python 3 (ipykernel)",
   "language": "python",
   "name": "python3"
  },
  "language_info": {
   "codemirror_mode": {
    "name": "ipython",
    "version": 3
   },
   "file_extension": ".py",
   "mimetype": "text/x-python",
   "name": "python",
   "nbconvert_exporter": "python",
   "pygments_lexer": "ipython3",
   "version": "3.9.6"
  }
 },
 "nbformat": 4,
 "nbformat_minor": 4
}
